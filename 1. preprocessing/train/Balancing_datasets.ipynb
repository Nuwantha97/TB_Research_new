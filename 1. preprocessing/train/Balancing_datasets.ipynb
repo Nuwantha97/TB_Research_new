{
  "cells": [
    {
      "cell_type": "code",
      "source": [
        "# Mount Google Drive\n",
        "from google.colab import drive\n",
        "drive.mount('/content/drive')"
      ],
      "metadata": {
        "id": "tTD-2FG8v6wm",
        "outputId": "233752ad-087f-4454-b8d9-bb348e7b2ee3",
        "colab": {
          "base_uri": "https://localhost:8080/"
        }
      },
      "execution_count": 1,
      "outputs": [
        {
          "output_type": "stream",
          "name": "stdout",
          "text": [
            "Mounted at /content/drive\n"
          ]
        }
      ]
    },
    {
      "cell_type": "code",
      "execution_count": 5,
      "metadata": {
        "id": "pw6EAA3-tjAm"
      },
      "outputs": [],
      "source": [
        "from imblearn.over_sampling import SMOTE\n",
        "import pandas as pd\n",
        "import os"
      ]
    },
    {
      "cell_type": "markdown",
      "metadata": {
        "id": "Dy-Uzd0PtjA0"
      },
      "source": [
        "## Balancing ATB_OT Dataset"
      ]
    },
    {
      "cell_type": "code",
      "execution_count": 6,
      "metadata": {
        "id": "a6Ju7Ts6tjA7",
        "outputId": "78dff7ce-0b40-4928-89b7-51120492d487",
        "colab": {
          "base_uri": "https://localhost:8080/"
        }
      },
      "outputs": [
        {
          "output_type": "stream",
          "name": "stdout",
          "text": [
            "ATB_OT dataset balanced successfully!\n"
          ]
        }
      ],
      "source": [
        "# Load dataset\n",
        "file_path = r'/content/drive/MyDrive/Research/TB_new/Datasets/train/processed/ATB_OT.csv'\n",
        "df = pd.read_csv(file_path)\n",
        "\n",
        "# Extract features and target variable\n",
        "X = df.drop(columns=['TB_Status'])\n",
        "y = df['TB_Status']\n",
        "\n",
        "# Apply SMOTE\n",
        "smote = SMOTE(sampling_strategy='auto', random_state=42)\n",
        "X_resampled, y_resampled = smote.fit_resample(X, y)\n",
        "\n",
        "# Save the balanced dataset\n",
        "ATB_OT = pd.concat([pd.DataFrame(X_resampled, columns=X.columns), pd.DataFrame(y_resampled, columns=['TB_Status'])], axis=1)\n",
        "\n",
        "path  = r'/content/drive/MyDrive/Research/TB_new/Datasets/train/balanced/ATB_OT.csv'\n",
        "os.makedirs(os.path.dirname(path), exist_ok=True)\n",
        "ATB_OT.to_csv(path, index=False)\n",
        "\n",
        "print(\"ATB_OT dataset balanced successfully!\")\n"
      ]
    },
    {
      "cell_type": "code",
      "source": [
        "# Get the number of occurrences for each class in the 'TB_Status' column\n",
        "class_counts = ATB_OT['TB_Status'].value_counts()\n",
        "\n",
        "# Display the class counts\n",
        "print(class_counts)"
      ],
      "metadata": {
        "id": "_jSKqGT_E2CD",
        "outputId": "c1394edb-b554-4ef2-9eac-435b5d52e35d",
        "colab": {
          "base_uri": "https://localhost:8080/"
        }
      },
      "execution_count": 10,
      "outputs": [
        {
          "output_type": "stream",
          "name": "stdout",
          "text": [
            "TB_Status\n",
            "Inactive     1031\n",
            "Active TB    1031\n",
            "Name: count, dtype: int64\n"
          ]
        }
      ]
    },
    {
      "cell_type": "markdown",
      "metadata": {
        "id": "3QmrTDmZtjBC"
      },
      "source": [
        "## Balancing PTB_EPTB Dataset"
      ]
    },
    {
      "cell_type": "code",
      "execution_count": 7,
      "metadata": {
        "id": "LuAFqHe8tjBE",
        "outputId": "481d8647-3b92-4e42-9c0c-fb7d4fa8c073",
        "colab": {
          "base_uri": "https://localhost:8080/"
        }
      },
      "outputs": [
        {
          "output_type": "stream",
          "name": "stdout",
          "text": [
            "PTB_EPTB dataset balanced successfully!\n"
          ]
        }
      ],
      "source": [
        "# Load dataset\n",
        "file_path = r'/content/drive/MyDrive/Research/TB_new/Datasets/train/processed/PTB_EPTB.csv'\n",
        "df = pd.read_csv(file_path)\n",
        "\n",
        "# Extract features and target variable\n",
        "X = df.drop(columns=['TB_Status'])\n",
        "y = df['TB_Status']\n",
        "\n",
        "# Apply SMOTE\n",
        "smote = SMOTE(sampling_strategy='auto', random_state=42)\n",
        "X_resampled, y_resampled = smote.fit_resample(X, y)\n",
        "\n",
        "# Save the balanced dataset\n",
        "PTB_EPTB = pd.concat([pd.DataFrame(X_resampled, columns=X.columns), pd.DataFrame(y_resampled, columns=['TB_Status'])], axis=1)\n",
        "PTB_EPTB.to_csv(r'/content/drive/MyDrive/Research/TB_new/Datasets/train/balanced/PTB_EPTB.csv', index=False)\n",
        "\n",
        "print(\"PTB_EPTB dataset balanced successfully!\")\n"
      ]
    },
    {
      "cell_type": "code",
      "source": [
        "# Get the number of occurrences for each class in the 'TB_Status' column\n",
        "class_counts = PTB_EPTB['TB_Status'].value_counts()\n",
        "\n",
        "# Display the class counts\n",
        "print(class_counts)"
      ],
      "metadata": {
        "id": "DUgZwY3qFCfd",
        "outputId": "98d6443e-b434-4a93-b8c3-0b322ba326c8",
        "colab": {
          "base_uri": "https://localhost:8080/"
        }
      },
      "execution_count": 11,
      "outputs": [
        {
          "output_type": "stream",
          "name": "stdout",
          "text": [
            "TB_Status\n",
            "Extra Pulmonary TB    211\n",
            "Pulmonary TB          211\n",
            "Name: count, dtype: int64\n"
          ]
        }
      ]
    },
    {
      "cell_type": "markdown",
      "metadata": {
        "id": "pI87SE1KtjBH"
      },
      "source": [
        "## Balancing ATB_LTB Dataset"
      ]
    },
    {
      "cell_type": "code",
      "execution_count": 9,
      "metadata": {
        "id": "ZnmPmb7GtjBK",
        "outputId": "f5f45985-2996-4342-97b3-b99d72b28075",
        "colab": {
          "base_uri": "https://localhost:8080/"
        }
      },
      "outputs": [
        {
          "output_type": "stream",
          "name": "stdout",
          "text": [
            "LTB_OT dataset balanced successfully!\n"
          ]
        }
      ],
      "source": [
        "# Load dataset\n",
        "file_path = r'/content/drive/MyDrive/Research/TB_new/Datasets/train/processed/LTB_OT.csv'\n",
        "df = pd.read_csv(file_path)\n",
        "\n",
        "# Extract features and target variable\n",
        "X = df.drop(columns=['TB_Status'])\n",
        "y = df['TB_Status']\n",
        "\n",
        "# Apply SMOTE\n",
        "smote = SMOTE(sampling_strategy='auto', random_state=42)\n",
        "X_resampled, y_resampled = smote.fit_resample(X, y)\n",
        "\n",
        "# Save the balanced dataset\n",
        "LTB_OT = pd.concat([pd.DataFrame(X_resampled, columns=X.columns), pd.DataFrame(y_resampled, columns=['TB_Status'])], axis=1)\n",
        "LTB_OT.to_csv(r'/content/drive/MyDrive/Research/TB_new/Datasets/train/balanced/LTB_OT.csv', index=False)\n",
        "\n",
        "print(\"LTB_OT dataset balanced successfully!\")\n"
      ]
    },
    {
      "cell_type": "code",
      "source": [
        "# Get the number of occurrences for each class in the 'TB_Status' column\n",
        "class_counts = LTB_OT['TB_Status'].value_counts()\n",
        "\n",
        "# Display the class counts\n",
        "print(class_counts)"
      ],
      "metadata": {
        "id": "IKRwZvNNFEzb",
        "outputId": "14c23c18-29c7-443e-ceaa-c2abcef5049d",
        "colab": {
          "base_uri": "https://localhost:8080/"
        }
      },
      "execution_count": 12,
      "outputs": [
        {
          "output_type": "stream",
          "name": "stdout",
          "text": [
            "TB_Status\n",
            "Healthy Control    608\n",
            "Latent TB          608\n",
            "Other Disease      608\n",
            "Name: count, dtype: int64\n"
          ]
        }
      ]
    }
  ],
  "metadata": {
    "kernelspec": {
      "display_name": "myenv",
      "language": "python",
      "name": "python3"
    },
    "language_info": {
      "codemirror_mode": {
        "name": "ipython",
        "version": 3
      },
      "file_extension": ".py",
      "mimetype": "text/x-python",
      "name": "python",
      "nbconvert_exporter": "python",
      "pygments_lexer": "ipython3",
      "version": "3.9.18"
    },
    "colab": {
      "provenance": []
    }
  },
  "nbformat": 4,
  "nbformat_minor": 0
}