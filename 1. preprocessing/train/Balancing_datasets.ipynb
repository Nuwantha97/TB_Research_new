{
 "cells": [
  {
   "cell_type": "code",
   "execution_count": 1,
   "metadata": {},
   "outputs": [],
   "source": [
    "from imblearn.over_sampling import SMOTE\n",
    "import pandas as pd"
   ]
  },
  {
   "cell_type": "markdown",
   "metadata": {},
   "source": [
    "## Balancing TB_HC_OD Dataset"
   ]
  },
  {
   "cell_type": "code",
   "execution_count": 2,
   "metadata": {},
   "outputs": [
    {
     "name": "stderr",
     "output_type": "stream",
     "text": [
      "c:\\Users\\dilan\\anaconda3\\envs\\myenv\\lib\\site-packages\\joblib\\externals\\loky\\backend\\context.py:136: UserWarning: Could not find the number of physical cores for the following reason:\n",
      "[WinError 2] The system cannot find the file specified\n",
      "Returning the number of logical cores instead. You can silence this warning by setting LOKY_MAX_CPU_COUNT to the number of cores you want to use.\n",
      "  warnings.warn(\n",
      "  File \"c:\\Users\\dilan\\anaconda3\\envs\\myenv\\lib\\site-packages\\joblib\\externals\\loky\\backend\\context.py\", line 257, in _count_physical_cores\n",
      "    cpu_info = subprocess.run(\n",
      "  File \"c:\\Users\\dilan\\anaconda3\\envs\\myenv\\lib\\subprocess.py\", line 505, in run\n",
      "    with Popen(*popenargs, **kwargs) as process:\n",
      "  File \"c:\\Users\\dilan\\anaconda3\\envs\\myenv\\lib\\subprocess.py\", line 951, in __init__\n",
      "    self._execute_child(args, executable, preexec_fn, close_fds,\n",
      "  File \"c:\\Users\\dilan\\anaconda3\\envs\\myenv\\lib\\subprocess.py\", line 1436, in _execute_child\n",
      "    hp, ht, pid, tid = _winapi.CreateProcess(executable, args,\n"
     ]
    },
    {
     "name": "stdout",
     "output_type": "stream",
     "text": [
      "TB_HC_OD dataset balanced successfully!\n"
     ]
    }
   ],
   "source": [
    "# Load dataset\n",
    "file_path = r'..\\..\\..\\Datasets\\train\\processed\\TB_HC_OD.csv'\n",
    "df = pd.read_csv(file_path)\n",
    "\n",
    "# Extract features and target variable\n",
    "X = df.drop(columns=['TB_Status'])\n",
    "y = df['TB_Status']\n",
    "\n",
    "# Apply SMOTE\n",
    "smote = SMOTE(sampling_strategy='auto', random_state=42)\n",
    "X_resampled, y_resampled = smote.fit_resample(X, y)\n",
    "\n",
    "# Save the balanced dataset\n",
    "TB_HC_OD = pd.concat([pd.DataFrame(X_resampled, columns=X.columns), pd.DataFrame(y_resampled, columns=['TB_Status'])], axis=1)\n",
    "TB_HC_OD.to_csv(r'..\\..\\..\\Datasets\\train\\balanced\\TB_HC_OD.csv', index=False)\n",
    "\n",
    "print(\"TB_HC_OD dataset balanced successfully!\")\n"
   ]
  },
  {
   "cell_type": "markdown",
   "metadata": {},
   "source": [
    "## Balancing PTB_EPTB Dataset"
   ]
  },
  {
   "cell_type": "code",
   "execution_count": 3,
   "metadata": {},
   "outputs": [
    {
     "name": "stdout",
     "output_type": "stream",
     "text": [
      "PTB_EPTB dataset balanced successfully!\n"
     ]
    }
   ],
   "source": [
    "# Load dataset\n",
    "file_path = r'..\\..\\..\\Datasets\\train\\processed\\PTB_EPTB.csv'\n",
    "df = pd.read_csv(file_path)\n",
    "\n",
    "# Extract features and target variable\n",
    "X = df.drop(columns=['TB_Status'])\n",
    "y = df['TB_Status']\n",
    "\n",
    "# Apply SMOTE\n",
    "smote = SMOTE(sampling_strategy='auto', random_state=42)\n",
    "X_resampled, y_resampled = smote.fit_resample(X, y)\n",
    "\n",
    "# Save the balanced dataset\n",
    "PTB_EPTB = pd.concat([pd.DataFrame(X_resampled, columns=X.columns), pd.DataFrame(y_resampled, columns=['TB_Status'])], axis=1)\n",
    "PTB_EPTB.to_csv(r'..\\..\\..\\Datasets\\train\\balanced\\PTB_EPTB.csv', index=False)\n",
    "\n",
    "print(\"PTB_EPTB dataset balanced successfully!\")\n"
   ]
  },
  {
   "cell_type": "markdown",
   "metadata": {},
   "source": [
    "## Balancing ATB_LTB Dataset"
   ]
  },
  {
   "cell_type": "code",
   "execution_count": 4,
   "metadata": {},
   "outputs": [
    {
     "name": "stdout",
     "output_type": "stream",
     "text": [
      "ATB_LTB dataset balanced successfully!\n"
     ]
    }
   ],
   "source": [
    "# Load dataset\n",
    "file_path = r'..\\..\\..\\Datasets\\train\\processed\\ATB_LTB.csv'\n",
    "df = pd.read_csv(file_path)\n",
    "\n",
    "# Extract features and target variable\n",
    "X = df.drop(columns=['TB_Status'])\n",
    "y = df['TB_Status']\n",
    "\n",
    "# Apply SMOTE\n",
    "smote = SMOTE(sampling_strategy='auto', random_state=42)\n",
    "X_resampled, y_resampled = smote.fit_resample(X, y)\n",
    "\n",
    "# Save the balanced dataset\n",
    "ATB_LTB = pd.concat([pd.DataFrame(X_resampled, columns=X.columns), pd.DataFrame(y_resampled, columns=['TB_Status'])], axis=1)\n",
    "ATB_LTB.to_csv(r'..\\..\\..\\Datasets\\train\\balanced\\ATB_LTB.csv', index=False)\n",
    "\n",
    "print(\"ATB_LTB dataset balanced successfully!\")\n"
   ]
  }
 ],
 "metadata": {
  "kernelspec": {
   "display_name": "myenv",
   "language": "python",
   "name": "python3"
  },
  "language_info": {
   "codemirror_mode": {
    "name": "ipython",
    "version": 3
   },
   "file_extension": ".py",
   "mimetype": "text/x-python",
   "name": "python",
   "nbconvert_exporter": "python",
   "pygments_lexer": "ipython3",
   "version": "3.9.18"
  }
 },
 "nbformat": 4,
 "nbformat_minor": 2
}
