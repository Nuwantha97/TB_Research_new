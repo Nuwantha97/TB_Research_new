{
 "cells": [
  {
   "cell_type": "markdown",
   "metadata": {},
   "source": [
    "# Datasets Preparation"
   ]
  },
  {
   "cell_type": "markdown",
   "metadata": {
    "id": "32cS2_Vmtz1d"
   },
   "source": [
    "## Import necessary libraries"
   ]
  },
  {
   "cell_type": "code",
   "execution_count": 13,
   "metadata": {
    "id": "jGsMkThtVH8x"
   },
   "outputs": [],
   "source": [
    "import pandas as pd\n",
    "from sklearn.preprocessing import StandardScaler"
   ]
  },
  {
   "cell_type": "code",
   "execution_count": 14,
   "metadata": {
    "id": "Hy--2ymhVn_a"
   },
   "outputs": [],
   "source": [
    "# Dataset 1: processed_dataset1\n",
    "df1 = pd.read_csv(r'..\\..\\..\\Datasets\\train\\processed\\processed_dataset1.csv')\n",
    "# Dataset 2: processed_dataset2\n",
    "df2 = pd.read_csv(r'..\\..\\..\\Datasets\\train\\processed\\processed_dataset2.csv')\n",
    "# Dataset 3: processed_dataset3\n",
    "df3 = pd.read_csv(r'..\\..\\..\\Datasets\\train\\processed\\processed_dataset3.csv')\n",
    "# Dataset 4: processed_dataset4\n",
    "df4 = pd.read_csv(r'..\\..\\..\\Datasets\\train\\processed\\processed_dataset4.csv')\n",
    "# Dataset 5: processed_dataset5\n",
    "df5 = pd.read_csv(r'..\\..\\..\\Datasets\\train\\processed\\processed_dataset5.csv')"
   ]
  },
  {
   "cell_type": "markdown",
   "metadata": {
    "id": "RE34zX1auJGt"
   },
   "source": [
    "## Identify and Keep Common Genes (Features) Across All Datasets"
   ]
  },
  {
   "cell_type": "code",
   "execution_count": 15,
   "metadata": {
    "id": "AGx2QIHlpF-y"
   },
   "outputs": [],
   "source": [
    "# Identify and Keep Common Genes (Features) Across All Datasets (Excluding the 'TB_Status' column)\n",
    "common_genes = list(set(df1.columns).intersection(df2.columns).intersection(df3.columns).intersection(df4.columns).intersection(df5.columns) - {'TB_Status'})\n",
    "\n",
    "# Convert the list to a DataFrame and save as CSV\n",
    "common_genes_df = pd.DataFrame(common_genes, columns=[\"Gene\"])\n",
    "common_genes_df.to_csv(r\"..\\..\\..\\Saved_files\\common_features.csv\", index=False)\n"
   ]
  },
  {
   "cell_type": "code",
   "execution_count": 16,
   "metadata": {},
   "outputs": [],
   "source": [
    "# Standardization & Batch Effect Correction (Median-Centering per Dataset)\n",
    "scaler = StandardScaler()\n",
    "\n",
    "def process_and_harmonize(df, common_genes, scaler):\n",
    "    df_common = df[common_genes]\n",
    "    \n",
    "    # Z-score normalization (standardization)\n",
    "    df_scaled = pd.DataFrame(scaler.fit_transform(df_common), columns=df_common.columns)\n",
    "    \n",
    "    # Batch effect correction: median-centering per dataset\n",
    "    df_harmonized = df_scaled - df_scaled.median()\n",
    "    \n",
    "    return pd.concat([df_harmonized, df[['TB_Status']]], axis=1)"
   ]
  },
  {
   "cell_type": "markdown",
   "metadata": {},
   "source": [
    "## Data Harmonization"
   ]
  },
  {
   "cell_type": "code",
   "execution_count": 17,
   "metadata": {},
   "outputs": [],
   "source": [
    "df1 = process_and_harmonize(df1, common_genes, scaler)\n",
    "df2 = process_and_harmonize(df2, common_genes, scaler)\n",
    "df3 = process_and_harmonize(df3, common_genes, scaler)\n",
    "df4 = process_and_harmonize(df4, common_genes, scaler)\n",
    "df5 = process_and_harmonize(df5, common_genes, scaler)"
   ]
  },
  {
   "cell_type": "markdown",
   "metadata": {
    "id": "h9g94EZfuivN"
   },
   "source": [
    "## Merge all 5 datasets"
   ]
  },
  {
   "cell_type": "code",
   "execution_count": 18,
   "metadata": {
    "id": "nNhhwJhzzQaS"
   },
   "outputs": [],
   "source": [
    "# Concatenate all datasets before harmonization\n",
    "merged_df = pd.concat([df1, df2, df3, df4, df5], ignore_index=True)"
   ]
  },
  {
   "cell_type": "code",
   "execution_count": 19,
   "metadata": {
    "colab": {
     "base_uri": "https://localhost:8080/",
     "height": 360
    },
    "id": "3WbqM6xOzs0N",
    "outputId": "ea0f1988-84d5-4682-e9ee-3ee67cde61ea"
   },
   "outputs": [
    {
     "data": {
      "text/html": [
       "<div>\n",
       "<style scoped>\n",
       "    .dataframe tbody tr th:only-of-type {\n",
       "        vertical-align: middle;\n",
       "    }\n",
       "\n",
       "    .dataframe tbody tr th {\n",
       "        vertical-align: top;\n",
       "    }\n",
       "\n",
       "    .dataframe thead th {\n",
       "        text-align: right;\n",
       "    }\n",
       "</style>\n",
       "<table border=\"1\" class=\"dataframe\">\n",
       "  <thead>\n",
       "    <tr style=\"text-align: right;\">\n",
       "      <th></th>\n",
       "      <th>ILMN_1822442</th>\n",
       "      <th>ILMN_1877270</th>\n",
       "      <th>ILMN_1683453</th>\n",
       "      <th>ILMN_1697095</th>\n",
       "      <th>ILMN_1747466</th>\n",
       "      <th>ILMN_1710873</th>\n",
       "      <th>ILMN_1661650</th>\n",
       "      <th>ILMN_1710204</th>\n",
       "      <th>ILMN_2138689</th>\n",
       "      <th>ILMN_2371251</th>\n",
       "      <th>...</th>\n",
       "      <th>ILMN_1654516</th>\n",
       "      <th>ILMN_1726391</th>\n",
       "      <th>ILMN_1786326</th>\n",
       "      <th>ILMN_2282641</th>\n",
       "      <th>ILMN_1742611</th>\n",
       "      <th>ILMN_1656962</th>\n",
       "      <th>ILMN_1804654</th>\n",
       "      <th>ILMN_1707062</th>\n",
       "      <th>ILMN_1733174</th>\n",
       "      <th>TB_Status</th>\n",
       "    </tr>\n",
       "  </thead>\n",
       "  <tbody>\n",
       "    <tr>\n",
       "      <th>60</th>\n",
       "      <td>-0.354294</td>\n",
       "      <td>0.116823</td>\n",
       "      <td>-0.507725</td>\n",
       "      <td>-0.557200</td>\n",
       "      <td>-0.535674</td>\n",
       "      <td>-0.575384</td>\n",
       "      <td>-1.256546</td>\n",
       "      <td>-0.372938</td>\n",
       "      <td>-0.075648</td>\n",
       "      <td>-0.349837</td>\n",
       "      <td>...</td>\n",
       "      <td>-0.841895</td>\n",
       "      <td>-0.908766</td>\n",
       "      <td>-0.642080</td>\n",
       "      <td>-0.051818</td>\n",
       "      <td>-0.665907</td>\n",
       "      <td>-1.332607</td>\n",
       "      <td>-2.509156</td>\n",
       "      <td>-1.635950</td>\n",
       "      <td>-0.473011</td>\n",
       "      <td>Active TB</td>\n",
       "    </tr>\n",
       "    <tr>\n",
       "      <th>1412</th>\n",
       "      <td>0.609643</td>\n",
       "      <td>-2.121456</td>\n",
       "      <td>-1.224274</td>\n",
       "      <td>-0.226171</td>\n",
       "      <td>-0.564160</td>\n",
       "      <td>0.468290</td>\n",
       "      <td>-0.608728</td>\n",
       "      <td>0.029391</td>\n",
       "      <td>-2.232885</td>\n",
       "      <td>0.630445</td>\n",
       "      <td>...</td>\n",
       "      <td>1.137028</td>\n",
       "      <td>-0.470511</td>\n",
       "      <td>1.636981</td>\n",
       "      <td>1.281223</td>\n",
       "      <td>-0.068899</td>\n",
       "      <td>0.401310</td>\n",
       "      <td>0.813998</td>\n",
       "      <td>-1.122529</td>\n",
       "      <td>-1.079858</td>\n",
       "      <td>Other Disease</td>\n",
       "    </tr>\n",
       "    <tr>\n",
       "      <th>22</th>\n",
       "      <td>-1.403656</td>\n",
       "      <td>-0.647864</td>\n",
       "      <td>-0.164053</td>\n",
       "      <td>-0.429701</td>\n",
       "      <td>-0.646807</td>\n",
       "      <td>-1.067757</td>\n",
       "      <td>-1.264663</td>\n",
       "      <td>-0.282027</td>\n",
       "      <td>0.107353</td>\n",
       "      <td>0.672468</td>\n",
       "      <td>...</td>\n",
       "      <td>-0.361086</td>\n",
       "      <td>-1.102605</td>\n",
       "      <td>-0.250384</td>\n",
       "      <td>-0.554242</td>\n",
       "      <td>-1.274624</td>\n",
       "      <td>-0.417769</td>\n",
       "      <td>-1.930317</td>\n",
       "      <td>-1.194300</td>\n",
       "      <td>-0.486207</td>\n",
       "      <td>Active TB</td>\n",
       "    </tr>\n",
       "    <tr>\n",
       "      <th>447</th>\n",
       "      <td>2.633814</td>\n",
       "      <td>2.665162</td>\n",
       "      <td>-2.313626</td>\n",
       "      <td>-0.699883</td>\n",
       "      <td>-0.448874</td>\n",
       "      <td>-0.879467</td>\n",
       "      <td>-0.234471</td>\n",
       "      <td>-0.135616</td>\n",
       "      <td>-1.687136</td>\n",
       "      <td>-2.418642</td>\n",
       "      <td>...</td>\n",
       "      <td>0.626470</td>\n",
       "      <td>-0.198571</td>\n",
       "      <td>-1.410018</td>\n",
       "      <td>0.242440</td>\n",
       "      <td>-0.448360</td>\n",
       "      <td>0.970852</td>\n",
       "      <td>0.515320</td>\n",
       "      <td>-0.528278</td>\n",
       "      <td>-0.692011</td>\n",
       "      <td>Healthy Control</td>\n",
       "    </tr>\n",
       "    <tr>\n",
       "      <th>702</th>\n",
       "      <td>2.266701</td>\n",
       "      <td>-0.438323</td>\n",
       "      <td>-0.211797</td>\n",
       "      <td>1.383713</td>\n",
       "      <td>0.264607</td>\n",
       "      <td>-0.103290</td>\n",
       "      <td>-0.607875</td>\n",
       "      <td>1.056731</td>\n",
       "      <td>0.490990</td>\n",
       "      <td>0.306108</td>\n",
       "      <td>...</td>\n",
       "      <td>-0.930440</td>\n",
       "      <td>-0.506034</td>\n",
       "      <td>1.586873</td>\n",
       "      <td>-0.835747</td>\n",
       "      <td>-0.590079</td>\n",
       "      <td>1.323516</td>\n",
       "      <td>0.778832</td>\n",
       "      <td>-0.233824</td>\n",
       "      <td>0.249451</td>\n",
       "      <td>Pulmonary TB</td>\n",
       "    </tr>\n",
       "  </tbody>\n",
       "</table>\n",
       "<p>5 rows × 23190 columns</p>\n",
       "</div>"
      ],
      "text/plain": [
       "      ILMN_1822442  ILMN_1877270  ILMN_1683453  ILMN_1697095  ILMN_1747466  \\\n",
       "60       -0.354294      0.116823     -0.507725     -0.557200     -0.535674   \n",
       "1412      0.609643     -2.121456     -1.224274     -0.226171     -0.564160   \n",
       "22       -1.403656     -0.647864     -0.164053     -0.429701     -0.646807   \n",
       "447       2.633814      2.665162     -2.313626     -0.699883     -0.448874   \n",
       "702       2.266701     -0.438323     -0.211797      1.383713      0.264607   \n",
       "\n",
       "      ILMN_1710873  ILMN_1661650  ILMN_1710204  ILMN_2138689  ILMN_2371251  \\\n",
       "60       -0.575384     -1.256546     -0.372938     -0.075648     -0.349837   \n",
       "1412      0.468290     -0.608728      0.029391     -2.232885      0.630445   \n",
       "22       -1.067757     -1.264663     -0.282027      0.107353      0.672468   \n",
       "447      -0.879467     -0.234471     -0.135616     -1.687136     -2.418642   \n",
       "702      -0.103290     -0.607875      1.056731      0.490990      0.306108   \n",
       "\n",
       "      ...  ILMN_1654516  ILMN_1726391  ILMN_1786326  ILMN_2282641  \\\n",
       "60    ...     -0.841895     -0.908766     -0.642080     -0.051818   \n",
       "1412  ...      1.137028     -0.470511      1.636981      1.281223   \n",
       "22    ...     -0.361086     -1.102605     -0.250384     -0.554242   \n",
       "447   ...      0.626470     -0.198571     -1.410018      0.242440   \n",
       "702   ...     -0.930440     -0.506034      1.586873     -0.835747   \n",
       "\n",
       "      ILMN_1742611  ILMN_1656962  ILMN_1804654  ILMN_1707062  ILMN_1733174  \\\n",
       "60       -0.665907     -1.332607     -2.509156     -1.635950     -0.473011   \n",
       "1412     -0.068899      0.401310      0.813998     -1.122529     -1.079858   \n",
       "22       -1.274624     -0.417769     -1.930317     -1.194300     -0.486207   \n",
       "447      -0.448360      0.970852      0.515320     -0.528278     -0.692011   \n",
       "702      -0.590079      1.323516      0.778832     -0.233824      0.249451   \n",
       "\n",
       "            TB_Status  \n",
       "60          Active TB  \n",
       "1412    Other Disease  \n",
       "22          Active TB  \n",
       "447   Healthy Control  \n",
       "702      Pulmonary TB  \n",
       "\n",
       "[5 rows x 23190 columns]"
      ]
     },
     "execution_count": 19,
     "metadata": {},
     "output_type": "execute_result"
    }
   ],
   "source": [
    "merged_df.sample(5)"
   ]
  },
  {
   "cell_type": "markdown",
   "metadata": {
    "id": "IeYjKFKhunMt"
   },
   "source": [
    "## Check for missing values in 'merged_df' dataset"
   ]
  },
  {
   "cell_type": "code",
   "execution_count": 20,
   "metadata": {
    "colab": {
     "base_uri": "https://localhost:8080/"
    },
    "id": "d2EMFHW82cja",
    "outputId": "929e5841-59c0-4cb4-b25b-c0461370e83e"
   },
   "outputs": [
    {
     "name": "stdout",
     "output_type": "stream",
     "text": [
      "Series([], dtype: int64)\n"
     ]
    }
   ],
   "source": [
    "# Check for missing values and print only columns with missing values\n",
    "missing_values = merged_df.isnull().sum()\n",
    "print(missing_values[missing_values > 0])"
   ]
  },
  {
   "cell_type": "markdown",
   "metadata": {
    "id": "40cvuIbquv5E"
   },
   "source": [
    "## Split 'merged_df' dataset in to 3 seratate datasets as 'TB_HC_OD' , 'PTB_EPTB' , 'ATB_LTB'"
   ]
  },
  {
   "cell_type": "markdown",
   "metadata": {
    "id": "eUpuwv6JvVaU"
   },
   "source": [
    "### Dataset 1: 'TB_HC_OD'"
   ]
  },
  {
   "cell_type": "code",
   "execution_count": 21,
   "metadata": {
    "id": "sKtiZoXQT-m8"
   },
   "outputs": [],
   "source": [
    "# Dataset 1: 'TB_HC_OD'\n",
    "# Replace 'Active TB', 'Latent TB', 'Pulmonary TB', and 'Extra Pulmonary TB' with 'TB' in 'TB_Status'\n",
    "TB_HC_OD = merged_df.copy()\n",
    "TB_HC_OD['TB_Status'] = TB_HC_OD['TB_Status'].replace(\n",
    "    ['Active TB', 'Latent TB', 'Pulmonary TB', 'Extra Pulmonary TB'], 'TB'\n",
    ")"
   ]
  },
  {
   "cell_type": "code",
   "execution_count": 22,
   "metadata": {
    "colab": {
     "base_uri": "https://localhost:8080/",
     "height": 342
    },
    "id": "3ixtX5Gf-e0t",
    "outputId": "79038906-34bd-4a96-a053-f040017fb77f"
   },
   "outputs": [
    {
     "name": "stdout",
     "output_type": "stream",
     "text": [
      "TB_HC_OD Dataset shape: (1570, 23190)\n",
      "TB_HC_OD Dataset preview:\n",
      "\n"
     ]
    },
    {
     "data": {
      "text/html": [
       "<div>\n",
       "<style scoped>\n",
       "    .dataframe tbody tr th:only-of-type {\n",
       "        vertical-align: middle;\n",
       "    }\n",
       "\n",
       "    .dataframe tbody tr th {\n",
       "        vertical-align: top;\n",
       "    }\n",
       "\n",
       "    .dataframe thead th {\n",
       "        text-align: right;\n",
       "    }\n",
       "</style>\n",
       "<table border=\"1\" class=\"dataframe\">\n",
       "  <thead>\n",
       "    <tr style=\"text-align: right;\">\n",
       "      <th></th>\n",
       "      <th>ILMN_1822442</th>\n",
       "      <th>ILMN_1877270</th>\n",
       "      <th>ILMN_1683453</th>\n",
       "      <th>ILMN_1697095</th>\n",
       "      <th>ILMN_1747466</th>\n",
       "      <th>ILMN_1710873</th>\n",
       "      <th>ILMN_1661650</th>\n",
       "      <th>ILMN_1710204</th>\n",
       "      <th>ILMN_2138689</th>\n",
       "      <th>ILMN_2371251</th>\n",
       "      <th>...</th>\n",
       "      <th>ILMN_1654516</th>\n",
       "      <th>ILMN_1726391</th>\n",
       "      <th>ILMN_1786326</th>\n",
       "      <th>ILMN_2282641</th>\n",
       "      <th>ILMN_1742611</th>\n",
       "      <th>ILMN_1656962</th>\n",
       "      <th>ILMN_1804654</th>\n",
       "      <th>ILMN_1707062</th>\n",
       "      <th>ILMN_1733174</th>\n",
       "      <th>TB_Status</th>\n",
       "    </tr>\n",
       "  </thead>\n",
       "  <tbody>\n",
       "    <tr>\n",
       "      <th>1347</th>\n",
       "      <td>-0.693483</td>\n",
       "      <td>-0.322788</td>\n",
       "      <td>0.455940</td>\n",
       "      <td>-0.512827</td>\n",
       "      <td>1.319000</td>\n",
       "      <td>0.841667</td>\n",
       "      <td>0.078650</td>\n",
       "      <td>0.185949</td>\n",
       "      <td>-2.534670</td>\n",
       "      <td>0.004334</td>\n",
       "      <td>...</td>\n",
       "      <td>-0.374742</td>\n",
       "      <td>0.135424</td>\n",
       "      <td>0.616931</td>\n",
       "      <td>-0.015103</td>\n",
       "      <td>-0.766706</td>\n",
       "      <td>-0.401534</td>\n",
       "      <td>-1.319323</td>\n",
       "      <td>-0.695472</td>\n",
       "      <td>-0.411021</td>\n",
       "      <td>Other Disease</td>\n",
       "    </tr>\n",
       "    <tr>\n",
       "      <th>1062</th>\n",
       "      <td>-1.985296</td>\n",
       "      <td>0.529591</td>\n",
       "      <td>-1.326576</td>\n",
       "      <td>-1.123750</td>\n",
       "      <td>0.255540</td>\n",
       "      <td>-0.684384</td>\n",
       "      <td>0.746381</td>\n",
       "      <td>0.162682</td>\n",
       "      <td>-0.008812</td>\n",
       "      <td>0.315952</td>\n",
       "      <td>...</td>\n",
       "      <td>-0.413642</td>\n",
       "      <td>-0.284799</td>\n",
       "      <td>1.090111</td>\n",
       "      <td>-0.507428</td>\n",
       "      <td>-0.253244</td>\n",
       "      <td>0.552185</td>\n",
       "      <td>0.707379</td>\n",
       "      <td>1.167303</td>\n",
       "      <td>0.553280</td>\n",
       "      <td>TB</td>\n",
       "    </tr>\n",
       "    <tr>\n",
       "      <th>216</th>\n",
       "      <td>-0.286075</td>\n",
       "      <td>-0.729645</td>\n",
       "      <td>0.618494</td>\n",
       "      <td>-0.407328</td>\n",
       "      <td>-0.699001</td>\n",
       "      <td>-0.861320</td>\n",
       "      <td>-0.976114</td>\n",
       "      <td>0.202116</td>\n",
       "      <td>-0.484977</td>\n",
       "      <td>-0.705458</td>\n",
       "      <td>...</td>\n",
       "      <td>-0.541010</td>\n",
       "      <td>-0.918738</td>\n",
       "      <td>0.115993</td>\n",
       "      <td>-0.532784</td>\n",
       "      <td>-0.982246</td>\n",
       "      <td>-0.221272</td>\n",
       "      <td>-0.375695</td>\n",
       "      <td>-0.792550</td>\n",
       "      <td>-0.292132</td>\n",
       "      <td>TB</td>\n",
       "    </tr>\n",
       "    <tr>\n",
       "      <th>650</th>\n",
       "      <td>-0.780631</td>\n",
       "      <td>0.386419</td>\n",
       "      <td>2.471895</td>\n",
       "      <td>0.161246</td>\n",
       "      <td>-0.701106</td>\n",
       "      <td>1.661442</td>\n",
       "      <td>0.786478</td>\n",
       "      <td>-0.433583</td>\n",
       "      <td>-0.500585</td>\n",
       "      <td>-0.660296</td>\n",
       "      <td>...</td>\n",
       "      <td>-1.131280</td>\n",
       "      <td>1.473257</td>\n",
       "      <td>-1.719721</td>\n",
       "      <td>-2.447063</td>\n",
       "      <td>0.244172</td>\n",
       "      <td>0.646650</td>\n",
       "      <td>-0.179999</td>\n",
       "      <td>-0.545638</td>\n",
       "      <td>0.876181</td>\n",
       "      <td>Healthy Control</td>\n",
       "    </tr>\n",
       "    <tr>\n",
       "      <th>576</th>\n",
       "      <td>1.443556</td>\n",
       "      <td>0.703763</td>\n",
       "      <td>-0.190201</td>\n",
       "      <td>0.330967</td>\n",
       "      <td>0.988979</td>\n",
       "      <td>0.087742</td>\n",
       "      <td>0.075202</td>\n",
       "      <td>1.173863</td>\n",
       "      <td>2.225172</td>\n",
       "      <td>1.113223</td>\n",
       "      <td>...</td>\n",
       "      <td>-0.447292</td>\n",
       "      <td>0.724175</td>\n",
       "      <td>0.610290</td>\n",
       "      <td>0.238899</td>\n",
       "      <td>0.263623</td>\n",
       "      <td>1.342661</td>\n",
       "      <td>0.766940</td>\n",
       "      <td>-0.653475</td>\n",
       "      <td>-0.160275</td>\n",
       "      <td>Other Disease</td>\n",
       "    </tr>\n",
       "  </tbody>\n",
       "</table>\n",
       "<p>5 rows × 23190 columns</p>\n",
       "</div>"
      ],
      "text/plain": [
       "      ILMN_1822442  ILMN_1877270  ILMN_1683453  ILMN_1697095  ILMN_1747466  \\\n",
       "1347     -0.693483     -0.322788      0.455940     -0.512827      1.319000   \n",
       "1062     -1.985296      0.529591     -1.326576     -1.123750      0.255540   \n",
       "216      -0.286075     -0.729645      0.618494     -0.407328     -0.699001   \n",
       "650      -0.780631      0.386419      2.471895      0.161246     -0.701106   \n",
       "576       1.443556      0.703763     -0.190201      0.330967      0.988979   \n",
       "\n",
       "      ILMN_1710873  ILMN_1661650  ILMN_1710204  ILMN_2138689  ILMN_2371251  \\\n",
       "1347      0.841667      0.078650      0.185949     -2.534670      0.004334   \n",
       "1062     -0.684384      0.746381      0.162682     -0.008812      0.315952   \n",
       "216      -0.861320     -0.976114      0.202116     -0.484977     -0.705458   \n",
       "650       1.661442      0.786478     -0.433583     -0.500585     -0.660296   \n",
       "576       0.087742      0.075202      1.173863      2.225172      1.113223   \n",
       "\n",
       "      ...  ILMN_1654516  ILMN_1726391  ILMN_1786326  ILMN_2282641  \\\n",
       "1347  ...     -0.374742      0.135424      0.616931     -0.015103   \n",
       "1062  ...     -0.413642     -0.284799      1.090111     -0.507428   \n",
       "216   ...     -0.541010     -0.918738      0.115993     -0.532784   \n",
       "650   ...     -1.131280      1.473257     -1.719721     -2.447063   \n",
       "576   ...     -0.447292      0.724175      0.610290      0.238899   \n",
       "\n",
       "      ILMN_1742611  ILMN_1656962  ILMN_1804654  ILMN_1707062  ILMN_1733174  \\\n",
       "1347     -0.766706     -0.401534     -1.319323     -0.695472     -0.411021   \n",
       "1062     -0.253244      0.552185      0.707379      1.167303      0.553280   \n",
       "216      -0.982246     -0.221272     -0.375695     -0.792550     -0.292132   \n",
       "650       0.244172      0.646650     -0.179999     -0.545638      0.876181   \n",
       "576       0.263623      1.342661      0.766940     -0.653475     -0.160275   \n",
       "\n",
       "            TB_Status  \n",
       "1347    Other Disease  \n",
       "1062               TB  \n",
       "216                TB  \n",
       "650   Healthy Control  \n",
       "576     Other Disease  \n",
       "\n",
       "[5 rows x 23190 columns]"
      ]
     },
     "execution_count": 22,
     "metadata": {},
     "output_type": "execute_result"
    }
   ],
   "source": [
    "# Verifying the shape and preview of each dataset\n",
    "print(\"TB_HC_OD Dataset shape:\", TB_HC_OD.shape)\n",
    "print(\"TB_HC_OD Dataset preview:\\n\")\n",
    "TB_HC_OD.sample(5)"
   ]
  },
  {
   "cell_type": "code",
   "execution_count": 23,
   "metadata": {
    "colab": {
     "base_uri": "https://localhost:8080/"
    },
    "id": "qV4jMV6ie0Lc",
    "outputId": "0b6fe37c-0a66-4196-82c5-f8850a217083"
   },
   "outputs": [
    {
     "name": "stdout",
     "output_type": "stream",
     "text": [
      "TB_Status\n",
      "TB                 719\n",
      "Other Disease      608\n",
      "Healthy Control    243\n",
      "Name: count, dtype: int64\n"
     ]
    }
   ],
   "source": [
    "# Get the number of occurrences for each class in the 'TB_Status' column\n",
    "class_counts = TB_HC_OD['TB_Status'].value_counts()\n",
    "\n",
    "# Display the class counts\n",
    "print(class_counts)\n"
   ]
  },
  {
   "cell_type": "code",
   "execution_count": 24,
   "metadata": {
    "colab": {
     "base_uri": "https://localhost:8080/"
    },
    "id": "xXXfm_vHCQo3",
    "outputId": "fbbb7a04-e7e7-4a53-d9b2-2d4322df9c7d"
   },
   "outputs": [
    {
     "name": "stdout",
     "output_type": "stream",
     "text": [
      "CSV file saved to: ..\\..\\..\\Datasets\\train\\processed\\TB_HC_OD.csv\n"
     ]
    }
   ],
   "source": [
    "# Save the DataFrame as a CSV file\n",
    "output_csv_path = r'..\\..\\..\\Datasets\\train\\processed\\TB_HC_OD.csv'\n",
    "TB_HC_OD.to_csv(output_csv_path, index=False)\n",
    "print(\"CSV file saved to:\", output_csv_path)"
   ]
  },
  {
   "cell_type": "markdown",
   "metadata": {
    "id": "Dw4tPHKsvhFk"
   },
   "source": [
    "### Dataset 2: 'PTB_EPTB'"
   ]
  },
  {
   "cell_type": "code",
   "execution_count": 25,
   "metadata": {
    "id": "m_h5-wAI-e4H"
   },
   "outputs": [],
   "source": [
    "# Dataset 2: 'PTB_EPTB' - only rows where TB_Status is 'Pulmonary TB' or 'Extra Pulmonary TB'\n",
    "PTB_EPTB = merged_df[merged_df['TB_Status'].isin(['Pulmonary TB', 'Extra Pulmonary TB'])]"
   ]
  },
  {
   "cell_type": "code",
   "execution_count": 26,
   "metadata": {
    "colab": {
     "base_uri": "https://localhost:8080/",
     "height": 446
    },
    "id": "YekqRihx-exw",
    "outputId": "0ed99eda-68de-4c5c-c802-227c10824a56"
   },
   "outputs": [
    {
     "name": "stdout",
     "output_type": "stream",
     "text": [
      "\n",
      "PTB_EPTB Dataset shape: (394, 23190)\n",
      "PTB_EPTB Dataset preview:\n",
      "\n"
     ]
    },
    {
     "data": {
      "text/html": [
       "<div>\n",
       "<style scoped>\n",
       "    .dataframe tbody tr th:only-of-type {\n",
       "        vertical-align: middle;\n",
       "    }\n",
       "\n",
       "    .dataframe tbody tr th {\n",
       "        vertical-align: top;\n",
       "    }\n",
       "\n",
       "    .dataframe thead th {\n",
       "        text-align: right;\n",
       "    }\n",
       "</style>\n",
       "<table border=\"1\" class=\"dataframe\">\n",
       "  <thead>\n",
       "    <tr style=\"text-align: right;\">\n",
       "      <th></th>\n",
       "      <th>ILMN_1822442</th>\n",
       "      <th>ILMN_1877270</th>\n",
       "      <th>ILMN_1683453</th>\n",
       "      <th>ILMN_1697095</th>\n",
       "      <th>ILMN_1747466</th>\n",
       "      <th>ILMN_1710873</th>\n",
       "      <th>ILMN_1661650</th>\n",
       "      <th>ILMN_1710204</th>\n",
       "      <th>ILMN_2138689</th>\n",
       "      <th>ILMN_2371251</th>\n",
       "      <th>...</th>\n",
       "      <th>ILMN_1654516</th>\n",
       "      <th>ILMN_1726391</th>\n",
       "      <th>ILMN_1786326</th>\n",
       "      <th>ILMN_2282641</th>\n",
       "      <th>ILMN_1742611</th>\n",
       "      <th>ILMN_1656962</th>\n",
       "      <th>ILMN_1804654</th>\n",
       "      <th>ILMN_1707062</th>\n",
       "      <th>ILMN_1733174</th>\n",
       "      <th>TB_Status</th>\n",
       "    </tr>\n",
       "  </thead>\n",
       "  <tbody>\n",
       "    <tr>\n",
       "      <th>724</th>\n",
       "      <td>0.437020</td>\n",
       "      <td>0.403718</td>\n",
       "      <td>1.199710</td>\n",
       "      <td>1.901424</td>\n",
       "      <td>0.923068</td>\n",
       "      <td>-0.629359</td>\n",
       "      <td>-0.904603</td>\n",
       "      <td>1.198801</td>\n",
       "      <td>1.167085</td>\n",
       "      <td>1.199689</td>\n",
       "      <td>...</td>\n",
       "      <td>-0.381239</td>\n",
       "      <td>-0.946797</td>\n",
       "      <td>-1.401703</td>\n",
       "      <td>-0.812072</td>\n",
       "      <td>-0.038403</td>\n",
       "      <td>-0.090368</td>\n",
       "      <td>0.141164</td>\n",
       "      <td>2.043654</td>\n",
       "      <td>-0.960562</td>\n",
       "      <td>Pulmonary TB</td>\n",
       "    </tr>\n",
       "    <tr>\n",
       "      <th>1025</th>\n",
       "      <td>0.157561</td>\n",
       "      <td>0.154966</td>\n",
       "      <td>-0.042660</td>\n",
       "      <td>0.772971</td>\n",
       "      <td>-0.904773</td>\n",
       "      <td>0.491475</td>\n",
       "      <td>-0.148311</td>\n",
       "      <td>0.235943</td>\n",
       "      <td>-1.410557</td>\n",
       "      <td>1.247130</td>\n",
       "      <td>...</td>\n",
       "      <td>-0.664653</td>\n",
       "      <td>0.755166</td>\n",
       "      <td>-0.323242</td>\n",
       "      <td>-1.556960</td>\n",
       "      <td>-0.467433</td>\n",
       "      <td>0.725994</td>\n",
       "      <td>0.845979</td>\n",
       "      <td>-0.320516</td>\n",
       "      <td>0.236153</td>\n",
       "      <td>Pulmonary TB</td>\n",
       "    </tr>\n",
       "    <tr>\n",
       "      <th>952</th>\n",
       "      <td>1.304897</td>\n",
       "      <td>0.109012</td>\n",
       "      <td>-0.256816</td>\n",
       "      <td>0.506569</td>\n",
       "      <td>-0.198132</td>\n",
       "      <td>0.321095</td>\n",
       "      <td>-0.891174</td>\n",
       "      <td>0.175623</td>\n",
       "      <td>0.331529</td>\n",
       "      <td>2.409085</td>\n",
       "      <td>...</td>\n",
       "      <td>1.056338</td>\n",
       "      <td>0.273610</td>\n",
       "      <td>-1.288481</td>\n",
       "      <td>-0.887299</td>\n",
       "      <td>0.241283</td>\n",
       "      <td>0.086478</td>\n",
       "      <td>0.375570</td>\n",
       "      <td>-0.816993</td>\n",
       "      <td>0.475691</td>\n",
       "      <td>Pulmonary TB</td>\n",
       "    </tr>\n",
       "    <tr>\n",
       "      <th>1014</th>\n",
       "      <td>0.658401</td>\n",
       "      <td>0.566575</td>\n",
       "      <td>0.212802</td>\n",
       "      <td>0.165429</td>\n",
       "      <td>-0.739819</td>\n",
       "      <td>-0.281228</td>\n",
       "      <td>0.252511</td>\n",
       "      <td>-2.115934</td>\n",
       "      <td>-0.749007</td>\n",
       "      <td>-0.393743</td>\n",
       "      <td>...</td>\n",
       "      <td>0.694809</td>\n",
       "      <td>-0.337933</td>\n",
       "      <td>0.350944</td>\n",
       "      <td>0.315866</td>\n",
       "      <td>0.284283</td>\n",
       "      <td>-1.568160</td>\n",
       "      <td>0.257932</td>\n",
       "      <td>1.494637</td>\n",
       "      <td>-0.076013</td>\n",
       "      <td>Extra Pulmonary TB</td>\n",
       "    </tr>\n",
       "    <tr>\n",
       "      <th>988</th>\n",
       "      <td>-0.388150</td>\n",
       "      <td>0.053603</td>\n",
       "      <td>0.581797</td>\n",
       "      <td>1.683050</td>\n",
       "      <td>0.036815</td>\n",
       "      <td>-0.472982</td>\n",
       "      <td>-2.330425</td>\n",
       "      <td>-1.824820</td>\n",
       "      <td>0.450153</td>\n",
       "      <td>-0.193656</td>\n",
       "      <td>...</td>\n",
       "      <td>-0.542630</td>\n",
       "      <td>0.438323</td>\n",
       "      <td>-0.978547</td>\n",
       "      <td>-1.738188</td>\n",
       "      <td>-0.532343</td>\n",
       "      <td>-0.587315</td>\n",
       "      <td>0.156891</td>\n",
       "      <td>-2.062130</td>\n",
       "      <td>2.409096</td>\n",
       "      <td>Pulmonary TB</td>\n",
       "    </tr>\n",
       "  </tbody>\n",
       "</table>\n",
       "<p>5 rows × 23190 columns</p>\n",
       "</div>"
      ],
      "text/plain": [
       "      ILMN_1822442  ILMN_1877270  ILMN_1683453  ILMN_1697095  ILMN_1747466  \\\n",
       "724       0.437020      0.403718      1.199710      1.901424      0.923068   \n",
       "1025      0.157561      0.154966     -0.042660      0.772971     -0.904773   \n",
       "952       1.304897      0.109012     -0.256816      0.506569     -0.198132   \n",
       "1014      0.658401      0.566575      0.212802      0.165429     -0.739819   \n",
       "988      -0.388150      0.053603      0.581797      1.683050      0.036815   \n",
       "\n",
       "      ILMN_1710873  ILMN_1661650  ILMN_1710204  ILMN_2138689  ILMN_2371251  \\\n",
       "724      -0.629359     -0.904603      1.198801      1.167085      1.199689   \n",
       "1025      0.491475     -0.148311      0.235943     -1.410557      1.247130   \n",
       "952       0.321095     -0.891174      0.175623      0.331529      2.409085   \n",
       "1014     -0.281228      0.252511     -2.115934     -0.749007     -0.393743   \n",
       "988      -0.472982     -2.330425     -1.824820      0.450153     -0.193656   \n",
       "\n",
       "      ...  ILMN_1654516  ILMN_1726391  ILMN_1786326  ILMN_2282641  \\\n",
       "724   ...     -0.381239     -0.946797     -1.401703     -0.812072   \n",
       "1025  ...     -0.664653      0.755166     -0.323242     -1.556960   \n",
       "952   ...      1.056338      0.273610     -1.288481     -0.887299   \n",
       "1014  ...      0.694809     -0.337933      0.350944      0.315866   \n",
       "988   ...     -0.542630      0.438323     -0.978547     -1.738188   \n",
       "\n",
       "      ILMN_1742611  ILMN_1656962  ILMN_1804654  ILMN_1707062  ILMN_1733174  \\\n",
       "724      -0.038403     -0.090368      0.141164      2.043654     -0.960562   \n",
       "1025     -0.467433      0.725994      0.845979     -0.320516      0.236153   \n",
       "952       0.241283      0.086478      0.375570     -0.816993      0.475691   \n",
       "1014      0.284283     -1.568160      0.257932      1.494637     -0.076013   \n",
       "988      -0.532343     -0.587315      0.156891     -2.062130      2.409096   \n",
       "\n",
       "               TB_Status  \n",
       "724         Pulmonary TB  \n",
       "1025        Pulmonary TB  \n",
       "952         Pulmonary TB  \n",
       "1014  Extra Pulmonary TB  \n",
       "988         Pulmonary TB  \n",
       "\n",
       "[5 rows x 23190 columns]"
      ]
     },
     "execution_count": 26,
     "metadata": {},
     "output_type": "execute_result"
    }
   ],
   "source": [
    "# Verifying the shape and preview of each dataset\n",
    "print(\"\\nPTB_EPTB Dataset shape:\", PTB_EPTB.shape)\n",
    "print(\"PTB_EPTB Dataset preview:\\n\")\n",
    "PTB_EPTB.sample(5)"
   ]
  },
  {
   "cell_type": "code",
   "execution_count": 27,
   "metadata": {
    "colab": {
     "base_uri": "https://localhost:8080/"
    },
    "id": "xSvJoebHe_bG",
    "outputId": "59f73403-c015-4fc0-dabb-99ebf5f32834"
   },
   "outputs": [
    {
     "name": "stdout",
     "output_type": "stream",
     "text": [
      "TB_Status\n",
      "Extra Pulmonary TB    211\n",
      "Pulmonary TB          183\n",
      "Name: count, dtype: int64\n"
     ]
    }
   ],
   "source": [
    "# Get the number of occurrences for each class in the 'TB_Status' column\n",
    "class_counts = PTB_EPTB['TB_Status'].value_counts()\n",
    "\n",
    "# Display the class counts\n",
    "print(class_counts)\n"
   ]
  },
  {
   "cell_type": "code",
   "execution_count": 28,
   "metadata": {
    "colab": {
     "base_uri": "https://localhost:8080/"
    },
    "id": "RjnjTvs7CZLK",
    "outputId": "695edab9-6af2-4689-cc98-41336734255a"
   },
   "outputs": [
    {
     "name": "stdout",
     "output_type": "stream",
     "text": [
      "CSV file saved to: ..\\..\\..\\Datasets\\train\\processed\\PTB_EPTB.csv\n"
     ]
    }
   ],
   "source": [
    "# Save the DataFrame as a CSV file\n",
    "output_csv_path = r'..\\..\\..\\Datasets\\train\\processed\\PTB_EPTB.csv'\n",
    "PTB_EPTB.to_csv(output_csv_path, index=False)\n",
    "print(\"CSV file saved to:\", output_csv_path)"
   ]
  },
  {
   "cell_type": "markdown",
   "metadata": {
    "id": "NEgGnymavm79"
   },
   "source": [
    "### Dataset 3: 'ATB_LTB'"
   ]
  },
  {
   "cell_type": "code",
   "execution_count": 29,
   "metadata": {
    "id": "FhtCcAUmVBCM"
   },
   "outputs": [],
   "source": [
    "# Dataset 3: 'ATB_LTB' - only rows where TB_Status is 'Latent TB' or 'Active TB'\n",
    "ATB_LTB = merged_df[merged_df['TB_Status'].isin(['Latent TB', 'Active TB'])]"
   ]
  },
  {
   "cell_type": "code",
   "execution_count": 30,
   "metadata": {
    "colab": {
     "base_uri": "https://localhost:8080/",
     "height": 325
    },
    "id": "AgCXXWOc-eu6",
    "outputId": "e328af34-8da1-471c-9ab0-8e14a68e5b1f"
   },
   "outputs": [
    {
     "name": "stdout",
     "output_type": "stream",
     "text": [
      "\n",
      "ATB_LTB Dataset shape: (308, 23190)\n",
      "ATB_LTB Dataset preview:\n",
      "\n"
     ]
    },
    {
     "data": {
      "text/html": [
       "<div>\n",
       "<style scoped>\n",
       "    .dataframe tbody tr th:only-of-type {\n",
       "        vertical-align: middle;\n",
       "    }\n",
       "\n",
       "    .dataframe tbody tr th {\n",
       "        vertical-align: top;\n",
       "    }\n",
       "\n",
       "    .dataframe thead th {\n",
       "        text-align: right;\n",
       "    }\n",
       "</style>\n",
       "<table border=\"1\" class=\"dataframe\">\n",
       "  <thead>\n",
       "    <tr style=\"text-align: right;\">\n",
       "      <th></th>\n",
       "      <th>ILMN_1822442</th>\n",
       "      <th>ILMN_1877270</th>\n",
       "      <th>ILMN_1683453</th>\n",
       "      <th>ILMN_1697095</th>\n",
       "      <th>ILMN_1747466</th>\n",
       "      <th>ILMN_1710873</th>\n",
       "      <th>ILMN_1661650</th>\n",
       "      <th>ILMN_1710204</th>\n",
       "      <th>ILMN_2138689</th>\n",
       "      <th>ILMN_2371251</th>\n",
       "      <th>...</th>\n",
       "      <th>ILMN_1654516</th>\n",
       "      <th>ILMN_1726391</th>\n",
       "      <th>ILMN_1786326</th>\n",
       "      <th>ILMN_2282641</th>\n",
       "      <th>ILMN_1742611</th>\n",
       "      <th>ILMN_1656962</th>\n",
       "      <th>ILMN_1804654</th>\n",
       "      <th>ILMN_1707062</th>\n",
       "      <th>ILMN_1733174</th>\n",
       "      <th>TB_Status</th>\n",
       "    </tr>\n",
       "  </thead>\n",
       "  <tbody>\n",
       "    <tr>\n",
       "      <th>34</th>\n",
       "      <td>-0.733023</td>\n",
       "      <td>-0.143830</td>\n",
       "      <td>-0.364100</td>\n",
       "      <td>-0.062621</td>\n",
       "      <td>-0.453916</td>\n",
       "      <td>-0.705694</td>\n",
       "      <td>-0.779037</td>\n",
       "      <td>-1.431592</td>\n",
       "      <td>0.621049</td>\n",
       "      <td>-0.990469</td>\n",
       "      <td>...</td>\n",
       "      <td>-0.533183</td>\n",
       "      <td>-0.779728</td>\n",
       "      <td>-1.296151</td>\n",
       "      <td>-0.878631</td>\n",
       "      <td>-0.019101</td>\n",
       "      <td>-1.704274</td>\n",
       "      <td>-0.717145</td>\n",
       "      <td>-1.185737</td>\n",
       "      <td>1.036741</td>\n",
       "      <td>Active TB</td>\n",
       "    </tr>\n",
       "    <tr>\n",
       "      <th>193</th>\n",
       "      <td>-1.173696</td>\n",
       "      <td>-0.059062</td>\n",
       "      <td>1.553425</td>\n",
       "      <td>-0.978507</td>\n",
       "      <td>-0.998723</td>\n",
       "      <td>-1.163751</td>\n",
       "      <td>-0.943619</td>\n",
       "      <td>-0.699962</td>\n",
       "      <td>1.272454</td>\n",
       "      <td>-0.234168</td>\n",
       "      <td>...</td>\n",
       "      <td>-0.360867</td>\n",
       "      <td>-1.266455</td>\n",
       "      <td>0.218752</td>\n",
       "      <td>-0.508492</td>\n",
       "      <td>-1.134276</td>\n",
       "      <td>-0.045008</td>\n",
       "      <td>-0.803120</td>\n",
       "      <td>-1.043964</td>\n",
       "      <td>0.268479</td>\n",
       "      <td>Active TB</td>\n",
       "    </tr>\n",
       "    <tr>\n",
       "      <th>1527</th>\n",
       "      <td>-1.131232</td>\n",
       "      <td>0.052813</td>\n",
       "      <td>0.265173</td>\n",
       "      <td>1.159118</td>\n",
       "      <td>0.508017</td>\n",
       "      <td>-0.990044</td>\n",
       "      <td>0.277213</td>\n",
       "      <td>0.318932</td>\n",
       "      <td>-0.149933</td>\n",
       "      <td>-1.588994</td>\n",
       "      <td>...</td>\n",
       "      <td>0.185090</td>\n",
       "      <td>-1.256167</td>\n",
       "      <td>-0.756570</td>\n",
       "      <td>0.803234</td>\n",
       "      <td>-0.854770</td>\n",
       "      <td>0.288610</td>\n",
       "      <td>-0.362683</td>\n",
       "      <td>2.063056</td>\n",
       "      <td>0.106253</td>\n",
       "      <td>Latent TB</td>\n",
       "    </tr>\n",
       "    <tr>\n",
       "      <th>1446</th>\n",
       "      <td>-0.157885</td>\n",
       "      <td>-1.096304</td>\n",
       "      <td>-0.424997</td>\n",
       "      <td>-0.278684</td>\n",
       "      <td>1.083840</td>\n",
       "      <td>-1.075734</td>\n",
       "      <td>-0.730984</td>\n",
       "      <td>-0.779606</td>\n",
       "      <td>0.068633</td>\n",
       "      <td>0.477959</td>\n",
       "      <td>...</td>\n",
       "      <td>-1.112943</td>\n",
       "      <td>0.575964</td>\n",
       "      <td>0.176207</td>\n",
       "      <td>-1.225060</td>\n",
       "      <td>1.293145</td>\n",
       "      <td>0.430090</td>\n",
       "      <td>-0.021121</td>\n",
       "      <td>0.956978</td>\n",
       "      <td>1.761129</td>\n",
       "      <td>Latent TB</td>\n",
       "    </tr>\n",
       "    <tr>\n",
       "      <th>149</th>\n",
       "      <td>-0.296607</td>\n",
       "      <td>0.430653</td>\n",
       "      <td>0.877875</td>\n",
       "      <td>-0.436061</td>\n",
       "      <td>0.718529</td>\n",
       "      <td>-0.789208</td>\n",
       "      <td>-0.400874</td>\n",
       "      <td>0.134163</td>\n",
       "      <td>-0.064961</td>\n",
       "      <td>0.446448</td>\n",
       "      <td>...</td>\n",
       "      <td>-0.484919</td>\n",
       "      <td>-0.418190</td>\n",
       "      <td>-1.291610</td>\n",
       "      <td>-1.840188</td>\n",
       "      <td>-0.066038</td>\n",
       "      <td>2.013848</td>\n",
       "      <td>-0.250592</td>\n",
       "      <td>0.354261</td>\n",
       "      <td>0.502380</td>\n",
       "      <td>Active TB</td>\n",
       "    </tr>\n",
       "  </tbody>\n",
       "</table>\n",
       "<p>5 rows × 23190 columns</p>\n",
       "</div>"
      ],
      "text/plain": [
       "      ILMN_1822442  ILMN_1877270  ILMN_1683453  ILMN_1697095  ILMN_1747466  \\\n",
       "34       -0.733023     -0.143830     -0.364100     -0.062621     -0.453916   \n",
       "193      -1.173696     -0.059062      1.553425     -0.978507     -0.998723   \n",
       "1527     -1.131232      0.052813      0.265173      1.159118      0.508017   \n",
       "1446     -0.157885     -1.096304     -0.424997     -0.278684      1.083840   \n",
       "149      -0.296607      0.430653      0.877875     -0.436061      0.718529   \n",
       "\n",
       "      ILMN_1710873  ILMN_1661650  ILMN_1710204  ILMN_2138689  ILMN_2371251  \\\n",
       "34       -0.705694     -0.779037     -1.431592      0.621049     -0.990469   \n",
       "193      -1.163751     -0.943619     -0.699962      1.272454     -0.234168   \n",
       "1527     -0.990044      0.277213      0.318932     -0.149933     -1.588994   \n",
       "1446     -1.075734     -0.730984     -0.779606      0.068633      0.477959   \n",
       "149      -0.789208     -0.400874      0.134163     -0.064961      0.446448   \n",
       "\n",
       "      ...  ILMN_1654516  ILMN_1726391  ILMN_1786326  ILMN_2282641  \\\n",
       "34    ...     -0.533183     -0.779728     -1.296151     -0.878631   \n",
       "193   ...     -0.360867     -1.266455      0.218752     -0.508492   \n",
       "1527  ...      0.185090     -1.256167     -0.756570      0.803234   \n",
       "1446  ...     -1.112943      0.575964      0.176207     -1.225060   \n",
       "149   ...     -0.484919     -0.418190     -1.291610     -1.840188   \n",
       "\n",
       "      ILMN_1742611  ILMN_1656962  ILMN_1804654  ILMN_1707062  ILMN_1733174  \\\n",
       "34       -0.019101     -1.704274     -0.717145     -1.185737      1.036741   \n",
       "193      -1.134276     -0.045008     -0.803120     -1.043964      0.268479   \n",
       "1527     -0.854770      0.288610     -0.362683      2.063056      0.106253   \n",
       "1446      1.293145      0.430090     -0.021121      0.956978      1.761129   \n",
       "149      -0.066038      2.013848     -0.250592      0.354261      0.502380   \n",
       "\n",
       "      TB_Status  \n",
       "34    Active TB  \n",
       "193   Active TB  \n",
       "1527  Latent TB  \n",
       "1446  Latent TB  \n",
       "149   Active TB  \n",
       "\n",
       "[5 rows x 23190 columns]"
      ]
     },
     "execution_count": 30,
     "metadata": {},
     "output_type": "execute_result"
    }
   ],
   "source": [
    "# Verifying the shape and preview of each dataset\n",
    "print(\"\\nATB_LTB Dataset shape:\", ATB_LTB.shape)\n",
    "print(\"ATB_LTB Dataset preview:\\n\")\n",
    "ATB_LTB.sample(5)"
   ]
  },
  {
   "cell_type": "code",
   "execution_count": 31,
   "metadata": {
    "colab": {
     "base_uri": "https://localhost:8080/"
    },
    "id": "HvC2KZfefGyc",
    "outputId": "34b73248-995f-4247-af01-6a414449070c"
   },
   "outputs": [
    {
     "name": "stdout",
     "output_type": "stream",
     "text": [
      "TB_Status\n",
      "Latent TB    180\n",
      "Active TB    128\n",
      "Name: count, dtype: int64\n"
     ]
    }
   ],
   "source": [
    "# Get the number of occurrences for each class in the 'TB_Status' column\n",
    "class_counts = ATB_LTB['TB_Status'].value_counts()\n",
    "\n",
    "# Display the class counts\n",
    "print(class_counts)"
   ]
  },
  {
   "cell_type": "code",
   "execution_count": 32,
   "metadata": {
    "colab": {
     "base_uri": "https://localhost:8080/"
    },
    "id": "Gai1lIce-esD",
    "outputId": "9ad1a142-da55-4af9-b926-e83dcfc40c75"
   },
   "outputs": [
    {
     "name": "stdout",
     "output_type": "stream",
     "text": [
      "CSV file saved to: ..\\..\\..\\Datasets\\train\\processed\\ATB_LTB.csv\n"
     ]
    }
   ],
   "source": [
    "# Save the DataFrame as a CSV file\n",
    "output_csv_path = r'..\\..\\..\\Datasets\\train\\processed\\ATB_LTB.csv'\n",
    "ATB_LTB.to_csv(output_csv_path, index=False)\n",
    "print(\"CSV file saved to:\", output_csv_path)"
   ]
  }
 ],
 "metadata": {
  "colab": {
   "provenance": []
  },
  "kernelspec": {
   "display_name": "myenv",
   "language": "python",
   "name": "python3"
  },
  "language_info": {
   "codemirror_mode": {
    "name": "ipython",
    "version": 3
   },
   "file_extension": ".py",
   "mimetype": "text/x-python",
   "name": "python",
   "nbconvert_exporter": "python",
   "pygments_lexer": "ipython3",
   "version": "3.9.18"
  }
 },
 "nbformat": 4,
 "nbformat_minor": 4
}
