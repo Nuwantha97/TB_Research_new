{
 "cells": [
  {
   "cell_type": "markdown",
   "metadata": {},
   "source": [
    "# Model Training - Sub model 2"
   ]
  },
  {
   "cell_type": "markdown",
   "metadata": {},
   "source": [
    "## Load the Dataset 2"
   ]
  },
  {
   "cell_type": "code",
   "execution_count": null,
   "metadata": {},
   "outputs": [],
   "source": [
    "import pandas as pd\n",
    "\n",
    "PTB_EPTB = pd.read_csv(r'..\\..\\Datasets\\train\\balanced\\PTB_EPTB.csv')"
   ]
  },
  {
   "cell_type": "markdown",
   "metadata": {},
   "source": [
    "## Separate features and target"
   ]
  },
  {
   "cell_type": "code",
   "execution_count": 10,
   "metadata": {},
   "outputs": [],
   "source": [
    "# Separate features and target in each dataset\n",
    "\n",
    "X_PTB_EPTB = PTB_EPTB.drop(columns=['TB_Status'])\n",
    "y_PTB_EPTB = PTB_EPTB['TB_Status']"
   ]
  },
  {
   "cell_type": "markdown",
   "metadata": {},
   "source": [
    "## Training the model using best algorithm"
   ]
  },
  {
   "cell_type": "code",
   "execution_count": 11,
   "metadata": {},
   "outputs": [],
   "source": [
    "import numpy as np\n",
    "from sklearn.ensemble import RandomForestClassifier\n",
    "from sklearn.model_selection import GridSearchCV, StratifiedKFold\n",
    "from sklearn.metrics import classification_report\n",
    "from sklearn.pipeline import make_pipeline\n",
    "from sklearn.preprocessing import StandardScaler, LabelEncoder\n",
    "from sklearn.feature_selection import SelectFromModel\n",
    "from sklearn.ensemble import ExtraTreesClassifier\n",
    "import pickle\n",
    "from sklearn.model_selection import train_test_split\n",
    "import pandas as pd\n",
    "from sklearn.model_selection import cross_val_score\n",
    "from sklearn.metrics import classification_report, accuracy_score, precision_score, recall_score, f1_score\n",
    "\n"
   ]
  },
  {
   "cell_type": "code",
   "execution_count": 12,
   "metadata": {},
   "outputs": [
    {
     "name": "stdout",
     "output_type": "stream",
     "text": [
      "\n",
      "============================================================\n",
      "🔍 FEATURE SELECTION RESULTS (Extra Trees Classifier - Sub Model 2)\n",
      "============================================================\n",
      "Total features before selection : 45\n",
      "Total features after selection  : 17\n",
      "\n",
      "Selected Features:\n",
      "1. ILMN_2079655\n",
      "2. ILMN_1710734\n",
      "3. ILMN_1658399\n",
      "4. ILMN_1680772\n",
      "5. ILMN_1778625\n",
      "6. ILMN_2390453\n",
      "7. ILMN_1685441\n",
      "8. ILMN_1797193\n",
      "9. ILMN_1773966\n",
      "10. ILMN_2134555\n",
      "11. ILMN_1679092\n",
      "12. ILMN_1787461\n",
      "13. ILMN_2131022\n",
      "14. ILMN_1855230\n",
      "15. ILMN_1728676\n",
      "16. ILMN_1685122\n",
      "17. ILMN_1814247\n",
      "============================================================\n",
      "\n",
      "Training set shape: (337, 17)\n",
      "Test set shape: (85, 17)\n",
      "Class distribution in training: {'Pulmonary TB': 169, 'Extra Pulmonary TB': 168}\n"
     ]
    }
   ],
   "source": [
    "selected_features_path = r\"..\\..\\Saved_files\\selected_features_PTB_EPTB.csv\"\n",
    "model_save_path = r\"..\\..\\Saved_files\\best_sub_model_2.pkl\"\n",
    "\n",
    "# Load selected features\n",
    "selected_features = pd.read_csv(selected_features_path)\n",
    "selected_feature_names = selected_features['Selected Features'].tolist()\n",
    "X_PTB_EPTB = X_PTB_EPTB[selected_feature_names]\n",
    "\n",
    "# Split data\n",
    "X_train_TB_Type, X_test_TB_Type, y_train_TB_Type, y_test_TB_Type = train_test_split(\n",
    "    X_PTB_EPTB, y_PTB_EPTB, test_size=0.2, random_state=42\n",
    ")\n",
    "\n",
    "# Feature selection using Extra Trees Classifier\n",
    "feature_selector = SelectFromModel(ExtraTreesClassifier(random_state=42), threshold=\"mean\")\n",
    "X_train_selected = feature_selector.fit_transform(X_train_TB_Type, y_train_TB_Type)\n",
    "X_test_selected = feature_selector.transform(X_test_TB_Type)\n",
    "\n",
    "# ✅ Get selected feature names\n",
    "selected_mask = feature_selector.get_support()\n",
    "selected_feature_names_final = np.array(selected_feature_names)[selected_mask]\n",
    "\n",
    "# Display selected feature information\n",
    "print(\"\\n\" + \"=\"*60)\n",
    "print(\"🔍 FEATURE SELECTION RESULTS (Extra Trees Classifier - Sub Model 2)\")\n",
    "print(\"=\"*60)\n",
    "print(f\"Total features before selection : {len(selected_feature_names)}\")\n",
    "print(f\"Total features after selection  : {len(selected_feature_names_final)}\\n\")\n",
    "print(\"Selected Features:\")\n",
    "for i, feature in enumerate(selected_feature_names_final, start=1):\n",
    "    print(f\"{i}. {feature}\")\n",
    "print(\"=\"*60 + \"\\n\")\n",
    "\n",
    "# Save feature selector\n",
    "feature_selector_TB_Type_path = r\"..\\..\\Saved_files\\feature_selector_TB_Type.pkl\"\n",
    "with open(feature_selector_TB_Type_path, 'wb') as file:\n",
    "    pickle.dump(feature_selector, file)\n",
    "\n",
    "# Label encoding\n",
    "label_encoder = LabelEncoder()\n",
    "y_train_encoded = label_encoder.fit_transform(y_train_TB_Type)\n",
    "y_test_encoded = label_encoder.transform(y_test_TB_Type)\n",
    "\n",
    "# Save label encoder\n",
    "label_encoder_TB_Type_path = r\"..\\..\\Saved_files\\label_encoder_TB_Type.pkl\"\n",
    "with open(label_encoder_TB_Type_path, 'wb') as file:\n",
    "    pickle.dump(label_encoder, file)\n",
    "\n",
    "# Define TB type labels\n",
    "tb_type_labels = [\"Pulmonary TB\", \"Extra Pulmonary TB\"]\n",
    "\n",
    "print(f\"Training set shape: {X_train_selected.shape}\")\n",
    "print(f\"Test set shape: {X_test_selected.shape}\")\n",
    "print(f\"Class distribution in training: {dict(zip(tb_type_labels, np.bincount(y_train_encoded)))}\")\n"
   ]
  },
  {
   "cell_type": "code",
   "execution_count": 13,
   "metadata": {},
   "outputs": [
    {
     "name": "stdout",
     "output_type": "stream",
     "text": [
      "Cross-validation F1 scores: [0.76450216 0.79393939 0.75958915 0.68642739 0.79076493]\n",
      "Mean CV F1 Score: 0.7590446059264747\n",
      "\n",
      "Performing incremental training with early stopping based on OOB score...\n",
      "\n",
      "Iteration 1: n_estimators = 125, OOB Score = 0.7448\n",
      "Iteration 2: n_estimators = 150, OOB Score = 0.7626\n",
      "Iteration 3: n_estimators = 175, OOB Score = 0.7626\n",
      "\n",
      "Early stopping triggered — OOB score stopped improving.\n",
      "\n",
      "============================================================\n",
      "SUB-MODEL 2 (PTB_EPTB) - OPTIMIZED RANDOM FOREST PERFORMANCE\n",
      "============================================================\n",
      "\n",
      "Best TB_Type Classification Report:\n",
      "                    precision    recall  f1-score   support\n",
      "\n",
      "      Pulmonary TB       0.81      0.81      0.81        42\n",
      "Extra Pulmonary TB       0.81      0.81      0.81        43\n",
      "\n",
      "          accuracy                           0.81        85\n",
      "         macro avg       0.81      0.81      0.81        85\n",
      "      weighted avg       0.81      0.81      0.81        85\n",
      "\n",
      "\n",
      "Overall Metrics:\n",
      "Accuracy:  0.8118\n",
      "Precision: 0.8118\n",
      "Recall:    0.8118\n",
      "F1-Score:  0.8118\n",
      "\n",
      "Class-wise Performance:\n",
      "Pulmonary TB         - Precision: 0.8095, Recall: 0.8095, F1: 0.8095\n",
      "Extra Pulmonary TB   - Precision: 0.8140, Recall: 0.8140, F1: 0.8140\n",
      "\n",
      "✅ Trained model saved to ..\\..\\Saved_files\\best_sub_model_2.pkl\n"
     ]
    }
   ],
   "source": [
    "# --- Create Optimized Random Forest Pipeline (Sub-Model 2: TB_Type) ---\n",
    "best_model_TB_Type = make_pipeline(\n",
    "    StandardScaler(),\n",
    "    RandomForestClassifier(\n",
    "        random_state=42,\n",
    "        n_estimators=100,          # Initial number of trees\n",
    "        max_depth=30,              # Allow deeper trees for complex patterns\n",
    "        min_samples_split=5,       # Prevent overfitting\n",
    "        min_samples_leaf=2,\n",
    "        max_features='sqrt',\n",
    "        oob_score=True,            # Enable OOB score for early stopping\n",
    "        warm_start=True,           # Allow incremental training\n",
    "        n_jobs=-1\n",
    "    )\n",
    ")\n",
    "\n",
    "# --- Cross-validation for model robustness ---\n",
    "cv_scores = cross_val_score(\n",
    "    best_model_TB_Type, X_train_selected, y_train_encoded, cv=5, scoring='f1_weighted', n_jobs=-1\n",
    ")\n",
    "print(\"Cross-validation F1 scores:\", cv_scores)\n",
    "print(\"Mean CV F1 Score:\", np.mean(cv_scores))\n",
    "\n",
    "# --- Early Stopping based on OOB Score ---\n",
    "print(\"\\nPerforming incremental training with early stopping based on OOB score...\\n\")\n",
    "prev_oob_score = 0\n",
    "best_n_estimators = 100\n",
    "\n",
    "for i in range(10):  # Incrementally increase trees\n",
    "    best_model_TB_Type.named_steps['randomforestclassifier'].n_estimators += 25\n",
    "    best_model_TB_Type.fit(X_train_selected, y_train_encoded)\n",
    "    curr_oob_score = best_model_TB_Type.named_steps['randomforestclassifier'].oob_score_\n",
    "    print(f\"Iteration {i+1}: n_estimators = {best_model_TB_Type.named_steps['randomforestclassifier'].n_estimators}, OOB Score = {curr_oob_score:.4f}\")\n",
    "    \n",
    "    if curr_oob_score <= prev_oob_score:  # Stop when no improvement\n",
    "        best_model_TB_Type.named_steps['randomforestclassifier'].n_estimators = best_n_estimators\n",
    "        print(\"\\nEarly stopping triggered — OOB score stopped improving.\")\n",
    "        break\n",
    "    prev_oob_score = curr_oob_score\n",
    "    best_n_estimators = best_model_TB_Type.named_steps['randomforestclassifier'].n_estimators\n",
    "\n",
    "# --- Evaluate on Test Set ---\n",
    "y_pred_best_TB_Type = best_model_TB_Type.predict(X_test_selected)\n",
    "y_pred_proba = best_model_TB_Type.named_steps['randomforestclassifier'].predict_proba(X_test_selected)\n",
    "\n",
    "print(\"\\n\" + \"=\"*60)\n",
    "print(\"SUB-MODEL 2 (PTB_EPTB) - OPTIMIZED RANDOM FOREST PERFORMANCE\")\n",
    "print(\"=\"*60)\n",
    "\n",
    "# --- Detailed classification report ---\n",
    "print(\"\\nBest TB_Type Classification Report:\")\n",
    "print(classification_report(y_test_encoded, y_pred_best_TB_Type, target_names=tb_type_labels))\n",
    "\n",
    "# --- Overall metrics ---\n",
    "accuracy = accuracy_score(y_test_encoded, y_pred_best_TB_Type)\n",
    "precision = precision_score(y_test_encoded, y_pred_best_TB_Type, average='weighted')\n",
    "recall = recall_score(y_test_encoded, y_pred_best_TB_Type, average='weighted')\n",
    "f1 = f1_score(y_test_encoded, y_pred_best_TB_Type, average='weighted')\n",
    "\n",
    "print(f\"\\nOverall Metrics:\")\n",
    "print(f\"Accuracy:  {accuracy:.4f}\")\n",
    "print(f\"Precision: {precision:.4f}\")\n",
    "print(f\"Recall:    {recall:.4f}\")\n",
    "print(f\"F1-Score:  {f1:.4f}\")\n",
    "\n",
    "# --- Class-wise metrics ---\n",
    "print(f\"\\nClass-wise Performance:\")\n",
    "for i, label in enumerate(tb_type_labels):\n",
    "    class_precision = precision_score(y_test_encoded, y_pred_best_TB_Type, average=None)[i]\n",
    "    class_recall = recall_score(y_test_encoded, y_pred_best_TB_Type, average=None)[i]\n",
    "    class_f1 = f1_score(y_test_encoded, y_pred_best_TB_Type, average=None)[i]\n",
    "    print(f\"{label:20} - Precision: {class_precision:.4f}, Recall: {class_recall:.4f}, F1: {class_f1:.4f}\")\n",
    "\n",
    "# --- Save the Trained Model ---\n",
    "model_save_path = r\"..\\..\\Saved_files\\best_sub_model_2.pkl\"\n",
    "with open(model_save_path, 'wb') as file:\n",
    "    pickle.dump(best_model_TB_Type, file)\n",
    "\n",
    "print(f\"\\n✅ Trained model saved to {model_save_path}\")\n"
   ]
  },
  {
   "cell_type": "code",
   "execution_count": 14,
   "metadata": {},
   "outputs": [
    {
     "name": "stdout",
     "output_type": "stream",
     "text": [
      "Scaler for TB Type saved to ..\\..\\Saved_files\\scalar\\scaler_TB_Type.pkl\n"
     ]
    }
   ],
   "source": [
    "# Extract the scaler correctly\n",
    "scaler_TB_Type = best_model_TB_Type.named_steps['standardscaler']  # Use 'standardscaler' instead of 'scaler'\n",
    "\n",
    "# Define path to save the scaler\n",
    "scaler_save_path_TB_Type = r\"..\\..\\Saved_files\\scalar\\scaler_TB_Type.pkl\"\n",
    "\n",
    "# Save the scaler\n",
    "with open(scaler_save_path_TB_Type, 'wb') as file:\n",
    "    pickle.dump(scaler_TB_Type, file)\n",
    "\n",
    "print(f\"Scaler for TB Type saved to {scaler_save_path_TB_Type}\")\n"
   ]
  },
  {
   "cell_type": "markdown",
   "metadata": {},
   "source": [
    "## Evaluation of the sub model"
   ]
  },
  {
   "cell_type": "code",
   "execution_count": 15,
   "metadata": {},
   "outputs": [],
   "source": [
    "from sklearn.metrics import accuracy_score, precision_score, recall_score, f1_score, confusion_matrix\n",
    "import matplotlib.pyplot as plt\n",
    "import seaborn as sns\n",
    "\n",
    "# Function to evaluate the model and display metrics\n",
    "def evaluate_model(y_true, y_pred, label):\n",
    "    print(f\"\\n--- Evaluation Metrics for {label} ---\")\n",
    "    acc = accuracy_score(y_true, y_pred)\n",
    "    precision = precision_score(y_true, y_pred, average='weighted')\n",
    "    recall = recall_score(y_true, y_pred, average='weighted')\n",
    "    f1 = f1_score(y_true, y_pred, average='weighted')\n",
    "\n",
    "    print(f\"Accuracy: {acc:.2f}\")\n",
    "    print(f\"Precision: {precision:.2f}\")\n",
    "    print(f\"Recall: {recall:.2f}\")\n",
    "    print(f\"F1 Score: {f1:.2f}\")\n",
    "    print(\"\\n\")\n",
    "\n",
    "    # Display confusion matrix\n",
    "    cm = confusion_matrix(y_true, y_pred)\n",
    "    plt.figure(figsize=(8, 6))\n",
    "    sns.heatmap(cm, annot=True, fmt='d', cmap='Blues', xticklabels=set(y_true), yticklabels=set(y_true))\n",
    "    plt.title(f'Confusion Matrix for {label}')\n",
    "    plt.xlabel('Predicted')\n",
    "    plt.ylabel('True')\n",
    "    plt.show()"
   ]
  },
  {
   "cell_type": "code",
   "execution_count": 16,
   "metadata": {},
   "outputs": [
    {
     "name": "stdout",
     "output_type": "stream",
     "text": [
      "\n",
      "--- Model Evaluation ---\n",
      "\n",
      "--- Evaluation Metrics for TB_Type ---\n",
      "Accuracy: 0.81\n",
      "Precision: 0.81\n",
      "Recall: 0.81\n",
      "F1 Score: 0.81\n",
      "\n",
      "\n"
     ]
    },
    {
     "data": {
      "image/png": "[encoded data removed]",
      "text/plain": [
       "<Figure size 800x600 with 2 Axes>"
      ]
     },
     "metadata": {},
     "output_type": "display_data"
    }
   ],
   "source": [
    "# Evaluate model using test datasets\n",
    "print(\"\\n--- Model Evaluation ---\")\n",
    "# TB_Type Evaluation using the best model\n",
    "y_pred_TB_Type = best_model_TB_Type.predict(X_test_selected)\n",
    "\n",
    "# Convert encoded predictions back to text labels\n",
    "y_test_labels = label_encoder.inverse_transform(y_test_encoded)\n",
    "y_pred_labels = label_encoder.inverse_transform(y_pred_TB_Type)\n",
    "\n",
    "# Evaluate using original labels\n",
    "evaluate_model(y_test_labels, y_pred_labels, \"TB_Type\")\n",
    "\n"
   ]
  }
 ],
 "metadata": {
  "kernelspec": {
   "display_name": "myenv",
   "language": "python",
   "name": "python3"
  },
  "language_info": {
   "codemirror_mode": {
    "name": "ipython",
    "version": 3
   },
   "file_extension": ".py",
   "mimetype": "text/x-python",
   "name": "python",
   "nbconvert_exporter": "python",
   "pygments_lexer": "ipython3",
   "version": "3.9.18"
  }
 },
 "nbformat": 4,
 "nbformat_minor": 2
}
