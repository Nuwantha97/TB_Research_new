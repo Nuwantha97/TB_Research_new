{
 "cells": [
  {
   "cell_type": "markdown",
   "metadata": {},
   "source": [
    "# Model Training - Sub model 3"
   ]
  },
  {
   "cell_type": "markdown",
   "metadata": {},
   "source": [
    "## Load the Dataset 3"
   ]
  },
  {
   "cell_type": "code",
   "execution_count": null,
   "metadata": {},
   "outputs": [],
   "source": [
    "import pandas as pd\n",
    "\n",
    "ATB_LTB = pd.read_csv(r'..\\..\\Datasets\\train\\balanced\\ATB_LTB.csv')"
   ]
  },
  {
   "cell_type": "markdown",
   "metadata": {},
   "source": [
    "## Separate features and target"
   ]
  },
  {
   "cell_type": "code",
   "execution_count": 2,
   "metadata": {},
   "outputs": [],
   "source": [
    "# Separate features and target in each dataset\n",
    "\n",
    "X_ATB_LTB = ATB_LTB.drop(columns=['TB_Status'])\n",
    "y_ATB_LTB = ATB_LTB['TB_Status']"
   ]
  },
  {
   "cell_type": "markdown",
   "metadata": {},
   "source": [
    "## Training the model using best algorithm"
   ]
  },
  {
   "cell_type": "code",
   "execution_count": 3,
   "metadata": {},
   "outputs": [],
   "source": [
    "import numpy as np\n",
    "from sklearn.ensemble import RandomForestClassifier\n",
    "from sklearn.model_selection import GridSearchCV, StratifiedKFold\n",
    "from sklearn.metrics import classification_report\n",
    "from sklearn.pipeline import make_pipeline\n",
    "from sklearn.preprocessing import StandardScaler, LabelEncoder\n",
    "from sklearn.feature_selection import SelectFromModel\n",
    "from sklearn.ensemble import ExtraTreesClassifier\n",
    "import pickle\n",
    "from sklearn.model_selection import train_test_split\n",
    "from sklearn.metrics import accuracy_score, precision_score, recall_score, f1_score\n"
   ]
  },
  {
   "cell_type": "code",
   "execution_count": 4,
   "metadata": {},
   "outputs": [
    {
     "name": "stdout",
     "output_type": "stream",
     "text": [
      "\n",
      "============================================================\n",
      "🔍 FEATURE SELECTION RESULTS (Extra Trees Classifier - Sub Model 3)\n",
      "============================================================\n",
      "Total features before selection : 10\n",
      "Total features after selection  : 6\n",
      "\n",
      "Selected Features:\n",
      "1. ILMN_1776939\n",
      "2. ILMN_1691071\n",
      "3. ILMN_1678730\n",
      "4. ILMN_2302757\n",
      "5. ILMN_2114568\n",
      "6. ILMN_1713454\n",
      "============================================================\n",
      "\n",
      "Training set shape: (288, 6)\n",
      "Test set shape: (72, 6)\n",
      "Class distribution in training: {'Active TB': 142, 'Latent TB': 146}\n"
     ]
    }
   ],
   "source": [
    "selected_features_path = r\"..\\..\\Saved_files\\selected_features_ATB_LTB.csv\"\n",
    "model_save_path = r\"..\\..\\Saved_files\\best_sub_model_3.pkl\"\n",
    "\n",
    "# Load selected features\n",
    "selected_features = pd.read_csv(selected_features_path)\n",
    "selected_feature_names = selected_features['Selected Features'].tolist()\n",
    "X_ATB_LTB = X_ATB_LTB[selected_feature_names]\n",
    "\n",
    "# Split data\n",
    "X_train_TB_Stage, X_test_TB_Stage, y_train_TB_Stage, y_test_TB_Stage = train_test_split(\n",
    "    X_ATB_LTB, y_ATB_LTB, test_size=0.2, random_state=42\n",
    ")\n",
    "\n",
    "# Feature selection using Extra Trees Classifier\n",
    "feature_selector = SelectFromModel(ExtraTreesClassifier(random_state=42), threshold=\"mean\")\n",
    "X_train_selected = feature_selector.fit_transform(X_train_TB_Stage, y_train_TB_Stage)\n",
    "X_test_selected = feature_selector.transform(X_test_TB_Stage)\n",
    "\n",
    "# ✅ Get selected feature names\n",
    "selected_mask = feature_selector.get_support()\n",
    "selected_feature_names_final = np.array(selected_feature_names)[selected_mask]\n",
    "\n",
    "# Display selected feature information\n",
    "print(\"\\n\" + \"=\"*60)\n",
    "print(\"🔍 FEATURE SELECTION RESULTS (Extra Trees Classifier - Sub Model 3)\")\n",
    "print(\"=\"*60)\n",
    "print(f\"Total features before selection : {len(selected_feature_names)}\")\n",
    "print(f\"Total features after selection  : {len(selected_feature_names_final)}\\n\")\n",
    "print(\"Selected Features:\")\n",
    "for i, feature in enumerate(selected_feature_names_final, start=1):\n",
    "    print(f\"{i}. {feature}\")\n",
    "print(\"=\"*60 + \"\\n\")\n",
    "\n",
    "# Save feature selector\n",
    "feature_selector_TB_Stage_path = r\"..\\..\\Saved_files\\feature_selector_TB_Stage.pkl\"\n",
    "with open(feature_selector_TB_Stage_path, 'wb') as file:\n",
    "    pickle.dump(feature_selector, file)\n",
    "\n",
    "# Label encoding\n",
    "label_encoder = LabelEncoder()\n",
    "y_train_encoded = label_encoder.fit_transform(y_train_TB_Stage)\n",
    "y_test_encoded = label_encoder.transform(y_test_TB_Stage)\n",
    "\n",
    "# Save label encoder\n",
    "label_encoder_TB_Stage_path = r\"..\\..\\Saved_files\\label_encoder_TB_Stage.pkl\"\n",
    "with open(label_encoder_TB_Stage_path, 'wb') as file:\n",
    "    pickle.dump(label_encoder, file)\n",
    "\n",
    "# Define TB stage labels\n",
    "tb_stage_labels = [\"Active TB\", \"Latent TB\"]\n",
    "\n",
    "print(f\"Training set shape: {X_train_selected.shape}\")\n",
    "print(f\"Test set shape: {X_test_selected.shape}\")\n",
    "print(f\"Class distribution in training: {dict(zip(tb_stage_labels, np.bincount(y_train_encoded)))}\")\n"
   ]
  },
  {
   "cell_type": "code",
   "execution_count": 5,
   "metadata": {},
   "outputs": [
    {
     "name": "stdout",
     "output_type": "stream",
     "text": [
      "Performing 5-fold Stratified Cross-Validation...\n",
      "\n",
      "Cross-validation F1 scores: [0.8446888329307775, 0.9137674695212608, 0.8792744573297651, 0.8068986024382991, 0.9473684210526315]\n",
      "Mean CV F1 Score: 0.8783995566545467\n",
      "\n",
      "Performing incremental training with early stopping based on OOB score...\n",
      "\n",
      "Iteration 1: n_estimators = 215, OOB Score = 0.8854\n",
      "Iteration 2: n_estimators = 230, OOB Score = 0.8889\n",
      "Iteration 3: n_estimators = 245, OOB Score = 0.8924\n",
      "Iteration 4: n_estimators = 260, OOB Score = 0.8958\n",
      "Iteration 5: n_estimators = 275, OOB Score = 0.8924\n",
      "\n",
      "Early stopping triggered — OOB score stopped improving.\n",
      "\n",
      "============================================================\n",
      "SUB-MODEL 3 (TB_STAGE) - OPTIMIZED RANDOM FOREST PERFORMANCE\n",
      "============================================================\n",
      "\n",
      "Best TB_Stage Classification Report:\n",
      "              precision    recall  f1-score   support\n",
      "\n",
      "   Active TB       0.91      0.79      0.85        38\n",
      "   Latent TB       0.79      0.91      0.85        34\n",
      "\n",
      "    accuracy                           0.85        72\n",
      "   macro avg       0.85      0.85      0.85        72\n",
      "weighted avg       0.86      0.85      0.85        72\n",
      "\n",
      "\n",
      "Overall Metrics:\n",
      "Accuracy:  0.8472\n",
      "Precision: 0.8552\n",
      "Recall:    0.8472\n",
      "F1-Score:  0.8471\n",
      "\n",
      "Class-wise Performance:\n",
      "Active TB            - Precision: 0.9091, Recall: 0.7895, F1: 0.8451\n",
      "Latent TB            - Precision: 0.7949, Recall: 0.9118, F1: 0.8493\n",
      "\n",
      "✅ Trained model saved to ..\\..\\Saved_files\\best_sub_model_3.pkl\n"
     ]
    }
   ],
   "source": [
    "# --- Create Optimized Random Forest Pipeline (Sub-Model 3: TB_Stage) ---\n",
    "best_model_TB_Stage = make_pipeline(\n",
    "    StandardScaler(),\n",
    "    RandomForestClassifier(\n",
    "        random_state=42,\n",
    "        n_estimators=200,       # Increased estimators for better learning\n",
    "        max_depth=None,         # Allow full growth unless stopped by other params\n",
    "        min_samples_split=3,    # Fine-tuned for generalization\n",
    "        min_samples_leaf=1,\n",
    "        max_features='sqrt',\n",
    "        oob_score=True,\n",
    "        class_weight=None,\n",
    "        n_jobs=-1\n",
    "    )\n",
    ")\n",
    "\n",
    "# --- Cross-validation for performance validation ---\n",
    "print(\"Performing 5-fold Stratified Cross-Validation...\\n\")\n",
    "stratified_cv = StratifiedKFold(n_splits=5, shuffle=True, random_state=42)\n",
    "cv_scores = []\n",
    "\n",
    "for train_idx, val_idx in stratified_cv.split(X_train_selected, y_train_encoded):\n",
    "    X_train_fold, X_val_fold = X_train_selected[train_idx], X_train_selected[val_idx]\n",
    "    y_train_fold, y_val_fold = y_train_encoded[train_idx], y_train_encoded[val_idx]\n",
    "    best_model_TB_Stage.fit(X_train_fold, y_train_fold)\n",
    "    y_val_pred = best_model_TB_Stage.predict(X_val_fold)\n",
    "    score = f1_score(y_val_fold, y_val_pred, average='weighted')\n",
    "    cv_scores.append(score)\n",
    "\n",
    "print(\"Cross-validation F1 scores:\", cv_scores)\n",
    "print(\"Mean CV F1 Score:\", np.mean(cv_scores))\n",
    "\n",
    "# --- Incremental Training with Early Stopping based on OOB Score ---\n",
    "print(\"\\nPerforming incremental training with early stopping based on OOB score...\\n\")\n",
    "prev_oob_score = 0\n",
    "best_n_estimators = 200\n",
    "\n",
    "for i in range(15):  # More iterations for fine-tuning\n",
    "    best_model_TB_Stage.named_steps['randomforestclassifier'].n_estimators += 15\n",
    "    best_model_TB_Stage.fit(X_train_selected, y_train_encoded)\n",
    "    curr_oob_score = best_model_TB_Stage.named_steps['randomforestclassifier'].oob_score_\n",
    "    print(f\"Iteration {i+1}: n_estimators = {best_model_TB_Stage.named_steps['randomforestclassifier'].n_estimators}, OOB Score = {curr_oob_score:.4f}\")\n",
    "    \n",
    "    if curr_oob_score <= prev_oob_score:  # Stop if OOB score stops improving\n",
    "        print(\"\\nEarly stopping triggered — OOB score stopped improving.\")\n",
    "        best_model_TB_Stage.named_steps['randomforestclassifier'].n_estimators = best_n_estimators\n",
    "        break\n",
    "    prev_oob_score = curr_oob_score\n",
    "    best_n_estimators = best_model_TB_Stage.named_steps['randomforestclassifier'].n_estimators\n",
    "\n",
    "# --- Evaluate on Test Set ---\n",
    "y_pred_best_TB_Stage = best_model_TB_Stage.predict(X_test_selected)\n",
    "y_pred_proba = best_model_TB_Stage.named_steps['randomforestclassifier'].predict_proba(X_test_selected)\n",
    "\n",
    "print(\"\\n\" + \"=\"*60)\n",
    "print(\"SUB-MODEL 3 (TB_STAGE) - OPTIMIZED RANDOM FOREST PERFORMANCE\")\n",
    "print(\"=\"*60)\n",
    "\n",
    "# --- Detailed classification report ---\n",
    "print(\"\\nBest TB_Stage Classification Report:\")\n",
    "print(classification_report(y_test_encoded, y_pred_best_TB_Stage, target_names=tb_stage_labels))\n",
    "\n",
    "# --- Overall metrics ---\n",
    "accuracy = accuracy_score(y_test_encoded, y_pred_best_TB_Stage)\n",
    "precision = precision_score(y_test_encoded, y_pred_best_TB_Stage, average='weighted')\n",
    "recall = recall_score(y_test_encoded, y_pred_best_TB_Stage, average='weighted')\n",
    "f1 = f1_score(y_test_encoded, y_pred_best_TB_Stage, average='weighted')\n",
    "\n",
    "print(f\"\\nOverall Metrics:\")\n",
    "print(f\"Accuracy:  {accuracy:.4f}\")\n",
    "print(f\"Precision: {precision:.4f}\")\n",
    "print(f\"Recall:    {recall:.4f}\")\n",
    "print(f\"F1-Score:  {f1:.4f}\")\n",
    "\n",
    "# --- Class-wise metrics ---\n",
    "print(f\"\\nClass-wise Performance:\")\n",
    "for i, label in enumerate(tb_stage_labels):\n",
    "    class_precision = precision_score(y_test_encoded, y_pred_best_TB_Stage, average=None)[i]\n",
    "    class_recall = recall_score(y_test_encoded, y_pred_best_TB_Stage, average=None)[i]\n",
    "    class_f1 = f1_score(y_test_encoded, y_pred_best_TB_Stage, average=None)[i]\n",
    "    print(f\"{label:20} - Precision: {class_precision:.4f}, Recall: {class_recall:.4f}, F1: {class_f1:.4f}\")\n",
    "\n",
    "# --- Save the Trained Model ---\n",
    "model_save_path = r\"..\\..\\Saved_files\\best_sub_model_3.pkl\"\n",
    "with open(model_save_path, 'wb') as file:\n",
    "    pickle.dump(best_model_TB_Stage, file)\n",
    "\n",
    "print(f\"\\n✅ Trained model saved to {model_save_path}\")\n"
   ]
  },
  {
   "cell_type": "code",
   "execution_count": 6,
   "metadata": {},
   "outputs": [
    {
     "name": "stdout",
     "output_type": "stream",
     "text": [
      "Scaler for TB Type saved to ..\\..\\Saved_files\\scalar\\scaler_TB_Stage.pkl\n"
     ]
    }
   ],
   "source": [
    "# Extract the scaler correctly\n",
    "scaler_TB_Stage = best_model_TB_Stage.named_steps['standardscaler']  # Use 'standardscaler' \n",
    "\n",
    "# Define path to save the scaler\n",
    "scaler_save_path_TB_Stage = r\"..\\..\\Saved_files\\scalar\\scaler_TB_Stage.pkl\"\n",
    "\n",
    "# Save the scaler\n",
    "with open(scaler_save_path_TB_Stage, 'wb') as file:\n",
    "    pickle.dump(scaler_TB_Stage, file)\n",
    "\n",
    "print(f\"Scaler for TB Type saved to {scaler_save_path_TB_Stage}\")\n"
   ]
  },
  {
   "cell_type": "markdown",
   "metadata": {},
   "source": [
    "## Evaluation of the sub model"
   ]
  },
  {
   "cell_type": "code",
   "execution_count": 7,
   "metadata": {},
   "outputs": [],
   "source": [
    "from sklearn.metrics import accuracy_score, precision_score, recall_score, f1_score, confusion_matrix\n",
    "import matplotlib.pyplot as plt\n",
    "import seaborn as sns\n",
    "\n",
    "# Function to evaluate the model and display metrics\n",
    "def evaluate_model(y_true, y_pred, label):\n",
    "    print(f\"\\n--- Evaluation Metrics for {label} ---\")\n",
    "    acc = accuracy_score(y_true, y_pred)\n",
    "    precision = precision_score(y_true, y_pred, average='weighted')\n",
    "    recall = recall_score(y_true, y_pred, average='weighted')\n",
    "    f1 = f1_score(y_true, y_pred, average='weighted')\n",
    "\n",
    "    print(f\"Accuracy: {acc:.2f}\")\n",
    "    print(f\"Precision: {precision:.2f}\")\n",
    "    print(f\"Recall: {recall:.2f}\")\n",
    "    print(f\"F1 Score: {f1:.2f}\")\n",
    "    print(\"\\n\")\n",
    "\n",
    "    # Display confusion matrix\n",
    "    cm = confusion_matrix(y_true, y_pred)\n",
    "    plt.figure(figsize=(8, 6))\n",
    "    sns.heatmap(cm, annot=True, fmt='d', cmap='Blues', xticklabels=set(y_true), yticklabels=set(y_true))\n",
    "    plt.title(f'Confusion Matrix for {label}')\n",
    "    plt.xlabel('Predicted')\n",
    "    plt.ylabel('True')\n",
    "    plt.show()"
   ]
  },
  {
   "cell_type": "code",
   "execution_count": 8,
   "metadata": {},
   "outputs": [
    {
     "name": "stdout",
     "output_type": "stream",
     "text": [
      "\n",
      "--- Model Evaluation ---\n",
      "\n",
      "--- Evaluation Metrics for TB_Stage ---\n",
      "Accuracy: 0.85\n",
      "Precision: 0.86\n",
      "Recall: 0.85\n",
      "F1 Score: 0.85\n",
      "\n",
      "\n"
     ]
    },
    {
     "data": {
      "image/png": "[encoded data removed]",
      "text/plain": [
       "<Figure size 800x600 with 2 Axes>"
      ]
     },
     "metadata": {},
     "output_type": "display_data"
    }
   ],
   "source": [
    "# Evaluate models using test datasets\n",
    "print(\"\\n--- Model Evaluation ---\")\n",
    "# TB_Stage Evaluation using the best model\n",
    "y_pred_TB_Stage = best_model_TB_Stage.predict(X_test_selected)\n",
    "\n",
    "# Convert encoded predictions back to text labels\n",
    "y_test_labels = label_encoder.inverse_transform(y_test_encoded)\n",
    "y_pred_labels = label_encoder.inverse_transform(y_pred_TB_Stage)\n",
    "\n",
    "# Evaluate using original labels\n",
    "evaluate_model(y_test_labels, y_pred_labels, \"TB_Stage\")\n",
    "\n"
   ]
  }
 ],
 "metadata": {
  "kernelspec": {
   "display_name": "myenv",
   "language": "python",
   "name": "python3"
  },
  "language_info": {
   "codemirror_mode": {
    "name": "ipython",
    "version": 3
   },
   "file_extension": ".py",
   "mimetype": "text/x-python",
   "name": "python",
   "nbconvert_exporter": "python",
   "pygments_lexer": "ipython3",
   "version": "3.9.18"
  }
 },
 "nbformat": 4,
 "nbformat_minor": 2
}
