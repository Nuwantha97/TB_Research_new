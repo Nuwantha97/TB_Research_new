{
  "cells": [
    {
      "cell_type": "code",
      "source": [
        "# Mount Google Drive\n",
        "from google.colab import drive\n",
        "drive.mount('/content/drive')"
      ],
      "metadata": {
        "colab": {
          "base_uri": "https://localhost:8080/"
        },
        "id": "K2xQfEnSUnIz",
        "outputId": "0834ee7c-58e7-4580-8ad7-1f97a8692366"
      },
      "execution_count": 1,
      "outputs": [
        {
          "output_type": "stream",
          "name": "stdout",
          "text": [
            "Mounted at /content/drive\n"
          ]
        }
      ]
    },
    {
      "cell_type": "markdown",
      "metadata": {
        "id": "uUifbvy1jJoQ"
      },
      "source": [
        "# Model Training - Sub model 1"
      ]
    },
    {
      "cell_type": "markdown",
      "metadata": {
        "id": "wtm8c0rljJoT"
      },
      "source": [
        "## Load the Dataset 1"
      ]
    },
    {
      "cell_type": "code",
      "execution_count": 2,
      "metadata": {
        "id": "OaY8hNqZjJoU"
      },
      "outputs": [],
      "source": [
        "import pandas as pd\n",
        "\n",
        "ATB_OT = pd.read_csv(r'/content/drive/MyDrive/Research/TB_new/Datasets/train/balanced/ATB_OT.csv')"
      ]
    },
    {
      "cell_type": "markdown",
      "metadata": {
        "id": "gWadehHOjJoW"
      },
      "source": [
        "## Separate features and target"
      ]
    },
    {
      "cell_type": "code",
      "execution_count": 3,
      "metadata": {
        "id": "WkV8nSgjjJoX"
      },
      "outputs": [],
      "source": [
        "# Separate features and target in each dataset\n",
        "\n",
        "X_ATB_OT = ATB_OT.drop(columns=['TB_Status'])\n",
        "y_ATB_OT = ATB_OT['TB_Status']"
      ]
    },
    {
      "cell_type": "markdown",
      "metadata": {
        "id": "-pFkep8IjJoY"
      },
      "source": [
        "## Training the model using best algorithm"
      ]
    },
    {
      "cell_type": "code",
      "execution_count": 8,
      "metadata": {
        "id": "cNNrzhlTjJoZ"
      },
      "outputs": [],
      "source": [
        "from sklearn.preprocessing import LabelEncoder, StandardScaler\n",
        "from sklearn.feature_selection import SelectFromModel\n",
        "from sklearn.ensemble import ExtraTreesClassifier\n",
        "from sklearn.model_selection import train_test_split\n",
        "from sklearn.svm import SVC\n",
        "from sklearn.pipeline import Pipeline\n",
        "from sklearn.metrics import classification_report, accuracy_score, precision_score, recall_score, f1_score\n",
        "import pickle\n",
        "import os"
      ]
    },
    {
      "cell_type": "code",
      "execution_count": 5,
      "metadata": {
        "colab": {
          "base_uri": "https://localhost:8080/"
        },
        "id": "A8seMXOpjJoa",
        "outputId": "d2876d00-4e54-4d4e-cb89-642208b26e2d"
      },
      "outputs": [
        {
          "output_type": "stream",
          "name": "stdout",
          "text": [
            "Training set shape: (1454, 5)\n",
            "Test set shape: (364, 5)\n",
            "Class distribution in training: {'Active TB': np.int64(727), 'Inactive': np.int64(727)}\n"
          ]
        }
      ],
      "source": [
        "import numpy as np\n",
        "\n",
        "selected_features_path = r\"/content/drive/MyDrive/Research/TB_new/Saved_files/selected_features_ATB_OT.csv\"\n",
        "\n",
        "# Load selected features\n",
        "selected_features = pd.read_csv(selected_features_path)\n",
        "# Assuming the selected features are the columns of the loaded dataframe\n",
        "selected_feature_names = selected_features.columns.tolist()\n",
        "X_ATB_OT = X_ATB_OT[selected_feature_names]\n",
        "\n",
        "# Split data\n",
        "X_train_TB_Status, X_test_TB_Status, y_train_TB_Status, y_test_TB_Status = train_test_split(\n",
        "    X_ATB_OT, y_ATB_OT, test_size=0.2, random_state=42, stratify=y_ATB_OT\n",
        ")\n",
        "\n",
        "# Label encoding\n",
        "label_encoder = LabelEncoder()\n",
        "y_train_encoded = label_encoder.fit_transform(y_train_TB_Status)\n",
        "y_test_encoded = label_encoder.transform(y_test_TB_Status)\n",
        "\n",
        "# Define TB status labels\n",
        "tb_status_labels = [\"Active TB\", \"Inactive\",]\n",
        "\n",
        "print(f\"Training set shape: {X_train_TB_Status.shape}\")\n",
        "print(f\"Test set shape: {X_test_TB_Status.shape}\")\n",
        "print(f\"Class distribution in training: {dict(zip(tb_status_labels, np.bincount(y_train_encoded)))}\")"
      ]
    },
    {
      "cell_type": "code",
      "execution_count": 6,
      "metadata": {
        "colab": {
          "base_uri": "https://localhost:8080/"
        },
        "id": "zp6YtdzAjJod",
        "outputId": "2b86bed8-70df-400d-fcf8-b20f3c127051"
      },
      "outputs": [
        {
          "output_type": "stream",
          "name": "stdout",
          "text": [
            "Training SVM model with optimal hyperparameters...\n",
            "\n",
            "============================================================\n",
            "SUB-MODEL 1 (TB_HC_OD) - OPTIMIZED SVM PERFORMANCE\n",
            "============================================================\n",
            "\n",
            "Best TB_Status Classification Report:\n",
            "              precision    recall  f1-score   support\n",
            "\n",
            "   Active TB       0.78      0.73      0.75       182\n",
            "    Inactive       0.74      0.79      0.77       182\n",
            "\n",
            "    accuracy                           0.76       364\n",
            "   macro avg       0.76      0.76      0.76       364\n",
            "weighted avg       0.76      0.76      0.76       364\n",
            "\n",
            "\n",
            "Overall Metrics:\n",
            "Accuracy:  0.7582\n",
            "Precision: 0.7594\n",
            "Recall:    0.7582\n",
            "F1-Score:  0.7580\n",
            "\n",
            "Class-wise Performance:\n",
            "Active TB       - Precision: 0.7765, Recall: 0.7253, F1: 0.7500\n",
            "Inactive        - Precision: 0.7423, Recall: 0.7912, F1: 0.7660\n",
            "\n",
            "✅ Trained model saved to /content/drive/MyDrive/Research/TB_new/Saved_files/best_sub_model_1.pkl\n"
          ]
        }
      ],
      "source": [
        "# --- Create Optimized SVM Pipeline with Best Hyperparameters ---\n",
        "model_TB_Status = Pipeline([\n",
        "    ('scaler', StandardScaler()),  # Feature Scaling (essential for SVM)\n",
        "    ('svm', SVC(\n",
        "        C=10,                    # Best from hyperparameter tuning\n",
        "        gamma='auto',            # Best from hyperparameter tuning\n",
        "        kernel='rbf',            # Best from hyperparameter tuning\n",
        "        probability=True,        # Enable probability predictions\n",
        "        random_state=42,\n",
        "        cache_size=1000,         # Increase cache for faster training\n",
        "        decision_function_shape='ovr'  # One-vs-rest for multi-class\n",
        "    ))\n",
        "])\n",
        "\n",
        "# --- Train the Model ---\n",
        "print(\"Training SVM model with optimal hyperparameters...\")\n",
        "model_TB_Status.fit(X_train_TB_Status, y_train_encoded)\n",
        "\n",
        "# --- Evaluate on Test Set ---\n",
        "y_pred_best_TB_Status = model_TB_Status.predict(X_test_TB_Status)\n",
        "y_pred_proba = model_TB_Status.predict_proba(X_test_TB_Status)\n",
        "\n",
        "print(\"\\n\" + \"=\"*60)\n",
        "print(\"SUB-MODEL 1 (TB_HC_OD) - OPTIMIZED SVM PERFORMANCE\")\n",
        "print(\"=\"*60)\n",
        "\n",
        "# Detailed classification report\n",
        "print(\"\\nBest TB_Status Classification Report:\")\n",
        "print(classification_report(y_test_encoded, y_pred_best_TB_Status, target_names=tb_status_labels))\n",
        "\n",
        "# Individual metrics\n",
        "accuracy = accuracy_score(y_test_encoded, y_pred_best_TB_Status)\n",
        "precision = precision_score(y_test_encoded, y_pred_best_TB_Status, average='weighted')\n",
        "recall = recall_score(y_test_encoded, y_pred_best_TB_Status, average='weighted')\n",
        "f1 = f1_score(y_test_encoded, y_pred_best_TB_Status, average='weighted')\n",
        "\n",
        "print(f\"\\nOverall Metrics:\")\n",
        "print(f\"Accuracy:  {accuracy:.4f}\")\n",
        "print(f\"Precision: {precision:.4f}\")\n",
        "print(f\"Recall:    {recall:.4f}\")\n",
        "print(f\"F1-Score:  {f1:.4f}\")\n",
        "\n",
        "# Class-wise performance\n",
        "print(f\"\\nClass-wise Performance:\")\n",
        "for i, label in enumerate(tb_status_labels):\n",
        "    class_precision = precision_score(y_test_encoded, y_pred_best_TB_Status, average=None)[i]\n",
        "    class_recall = recall_score(y_test_encoded, y_pred_best_TB_Status, average=None)[i]\n",
        "    class_f1 = f1_score(y_test_encoded, y_pred_best_TB_Status, average=None)[i]\n",
        "    print(f\"{label:15} - Precision: {class_precision:.4f}, Recall: {class_recall:.4f}, F1: {class_f1:.4f}\")\n",
        "\n",
        "# --- Save the Trained Model ---\n",
        "model_save_path = r\"/content/drive/MyDrive/Research/TB_new/Saved_files/best_sub_model_1.pkl\"\n",
        "with open(model_save_path, 'wb') as file:\n",
        "    pickle.dump(model_TB_Status, file)\n",
        "\n",
        "print(f\"\\n✅ Trained model saved to {model_save_path}\")\n"
      ]
    },
    {
      "cell_type": "code",
      "execution_count": 9,
      "metadata": {
        "colab": {
          "base_uri": "https://localhost:8080/"
        },
        "id": "QQR32rx2jJoe",
        "outputId": "54557f06-a238-4c56-b591-841191b1c437"
      },
      "outputs": [
        {
          "output_type": "stream",
          "name": "stdout",
          "text": [
            "Scaler for TB Status saved to /content/drive/MyDrive/Research/TB_new/Saved_files/scalar/scaler_TB_Status.pkl\n"
          ]
        }
      ],
      "source": [
        "# Extract the scaler from the pipeline\n",
        "scaler_TB_Status = model_TB_Status.named_steps['scaler']\n",
        "\n",
        "# Define paths to save the scaler\n",
        "scaler_save_path_TB_Status = r\"/content/drive/MyDrive/Research/TB_new/Saved_files/scalar/scaler_TB_Status.pkl\"\n",
        "\n",
        "# Create the directory if it doesn't exist\n",
        "os.makedirs(os.path.dirname(scaler_save_path_TB_Status), exist_ok=True)\n",
        "\n",
        "\n",
        "# Save the scaler\n",
        "with open(scaler_save_path_TB_Status, 'wb') as file:\n",
        "    pickle.dump(scaler_TB_Status, file)\n",
        "\n",
        "print(f\"Scaler for TB Status saved to {scaler_save_path_TB_Status}\")"
      ]
    },
    {
      "cell_type": "markdown",
      "metadata": {
        "id": "S1PmWcoOjJof"
      },
      "source": [
        "## Evaluation of the sub model"
      ]
    },
    {
      "cell_type": "code",
      "execution_count": 10,
      "metadata": {
        "id": "Oh5VXpM9jJof"
      },
      "outputs": [],
      "source": [
        "from sklearn.metrics import accuracy_score, precision_score, recall_score, f1_score, confusion_matrix\n",
        "import matplotlib.pyplot as plt\n",
        "import seaborn as sns\n",
        "\n",
        "# Function to evaluate the model and display metrics\n",
        "def evaluate_model(y_true, y_pred, label):\n",
        "    print(f\"\\n--- Evaluation Metrics for {label} ---\")\n",
        "    acc = accuracy_score(y_true, y_pred)\n",
        "    precision = precision_score(y_true, y_pred, average='weighted')\n",
        "    recall = recall_score(y_true, y_pred, average='weighted')\n",
        "    f1 = f1_score(y_true, y_pred, average='weighted')\n",
        "\n",
        "    print(f\"Accuracy: {acc:.2f}\")\n",
        "    print(f\"Precision: {precision:.2f}\")\n",
        "    print(f\"Recall: {recall:.2f}\")\n",
        "    print(f\"F1 Score: {f1:.2f}\")\n",
        "    print(\"\\n\")\n",
        "\n",
        "    # Display confusion matrix\n",
        "    cm = confusion_matrix(y_true, y_pred)\n",
        "    plt.figure(figsize=(8, 6))\n",
        "    sns.heatmap(cm, annot=True, fmt='d', cmap='Blues', xticklabels=set(y_true), yticklabels=set(y_true))\n",
        "    plt.title(f'Confusion Matrix for {label}')\n",
        "    plt.xlabel('Predicted')\n",
        "    plt.ylabel('True')\n",
        "    plt.show()"
      ]
    },
    {
      "cell_type": "code",
      "execution_count": 11,
      "metadata": {
        "colab": {
          "base_uri": "https://localhost:8080/",
          "height": 738
        },
        "id": "Mhr9p08cjJog",
        "outputId": "f48dbc19-f7a0-4533-fdd9-74faa9a5570b"
      },
      "outputs": [
        {
          "output_type": "stream",
          "name": "stdout",
          "text": [
            "\n",
            "--- Model Evaluation ---\n",
            "\n",
            "--- Evaluation Metrics for TB_Status ---\n",
            "Accuracy: 0.76\n",
            "Precision: 0.76\n",
            "Recall: 0.76\n",
            "F1 Score: 0.76\n",
            "\n",
            "\n"
          ]
        },
        {
          "output_type": "display_data",
          "data": {
            "text/plain": [
              "<Figure size 800x600 with 2 Axes>"
            ],
            "image/png": "[encoded data removed]"
          },
          "metadata": {}
        }
      ],
      "source": [
        "# Evaluate models using test datasets\n",
        "print(\"\\n--- Model Evaluation ---\")\n",
        "# TB_Status Evaluation using the best model\n",
        "y_pred_TB_Status = model_TB_Status.predict(X_test_TB_Status)\n",
        "\n",
        "# Convert encoded predictions back to text labels\n",
        "y_test_labels = label_encoder.inverse_transform(y_test_encoded)\n",
        "y_pred_labels = label_encoder.inverse_transform(y_pred_TB_Status)\n",
        "\n",
        "# Evaluate using original labels\n",
        "evaluate_model(y_test_labels, y_pred_labels, \"TB_Status\")\n",
        "\n"
      ]
    }
  ],
  "metadata": {
    "kernelspec": {
      "display_name": "myenv",
      "language": "python",
      "name": "python3"
    },
    "language_info": {
      "codemirror_mode": {
        "name": "ipython",
        "version": 3
      },
      "file_extension": ".py",
      "mimetype": "text/x-python",
      "name": "python",
      "nbconvert_exporter": "python",
      "pygments_lexer": "ipython3",
      "version": "3.9.18"
    },
    "colab": {
      "provenance": []
    }
  },
  "nbformat": 4,
  "nbformat_minor": 0
}