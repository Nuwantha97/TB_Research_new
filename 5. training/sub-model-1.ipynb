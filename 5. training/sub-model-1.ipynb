{
 "cells": [
  {
   "cell_type": "markdown",
   "metadata": {},
   "source": [
    "# Model Training - Sub model 1"
   ]
  },
  {
   "cell_type": "markdown",
   "metadata": {},
   "source": [
    "## Load the Dataset 1"
   ]
  },
  {
   "cell_type": "code",
   "execution_count": null,
   "metadata": {},
   "outputs": [],
   "source": [
    "import pandas as pd\n",
    "\n",
    "TB_HC_OD = pd.read_csv(r'..\\..\\Datasets\\train\\balanced\\TB_HC_OD.csv')"
   ]
  },
  {
   "cell_type": "markdown",
   "metadata": {},
   "source": [
    "## Separate features and target"
   ]
  },
  {
   "cell_type": "code",
   "execution_count": 18,
   "metadata": {},
   "outputs": [],
   "source": [
    "# Separate features and target in each dataset\n",
    "\n",
    "X_TB_HC_OD = TB_HC_OD.drop(columns=['TB_Status'])\n",
    "y_TB_HC_OD = TB_HC_OD['TB_Status']"
   ]
  },
  {
   "cell_type": "markdown",
   "metadata": {},
   "source": [
    "## Training the model using best algorithm"
   ]
  },
  {
   "cell_type": "code",
   "execution_count": 19,
   "metadata": {},
   "outputs": [],
   "source": [
    "from sklearn.preprocessing import LabelEncoder, StandardScaler\n",
    "from sklearn.feature_selection import SelectFromModel\n",
    "from sklearn.ensemble import ExtraTreesClassifier\n",
    "from sklearn.model_selection import train_test_split\n",
    "from sklearn.svm import SVC\n",
    "from sklearn.pipeline import Pipeline\n",
    "from sklearn.metrics import classification_report, accuracy_score, precision_score, recall_score, f1_score\n",
    "import pickle"
   ]
  },
  {
   "cell_type": "code",
   "execution_count": 20,
   "metadata": {},
   "outputs": [
    {
     "name": "stdout",
     "output_type": "stream",
     "text": [
      "\n",
      "============================================================\n",
      "🔍 FEATURE SELECTION RESULTS (Extra Trees Classifier)\n",
      "============================================================\n",
      "Total features before selection : 35\n",
      "Total features after selection  : 14\n",
      "\n",
      "Selected Features:\n",
      "1. ILMN_1654389\n",
      "2. ILMN_1799848\n",
      "3. ILMN_1691364\n",
      "4. ILMN_2388547\n",
      "5. ILMN_1806040\n",
      "6. ILMN_1776157\n",
      "7. ILMN_2114568\n",
      "8. ILMN_1811489\n",
      "9. ILMN_1670305\n",
      "10. ILMN_1756953\n",
      "11. ILMN_1676448\n",
      "12. ILMN_1731064\n",
      "13. ILMN_1664543\n",
      "14. ILMN_2058782\n",
      "============================================================\n",
      "\n",
      "Training set shape: (1725, 14)\n",
      "Test set shape: (432, 14)\n",
      "Class distribution in training: {'TB': 575, 'Healthy Control': 575, 'Other Diseases': 575}\n"
     ]
    }
   ],
   "source": [
    "import numpy as np\n",
    "\n",
    "selected_features_path = r\"..\\..\\Saved_files\\selected_features_TB_HC_OD.csv\"\n",
    "\n",
    "# Load selected features\n",
    "selected_features = pd.read_csv(selected_features_path)\n",
    "selected_feature_names = selected_features['Selected Features'].tolist()\n",
    "X_TB_HC_OD = X_TB_HC_OD[selected_feature_names]\n",
    "\n",
    "# Split data\n",
    "X_train_TB_Status, X_test_TB_Status, y_train_TB_Status, y_test_TB_Status = train_test_split(\n",
    "    X_TB_HC_OD, y_TB_HC_OD, test_size=0.2, random_state=42, stratify=y_TB_HC_OD\n",
    ")\n",
    "\n",
    "# Feature selection using Extra Trees Classifier\n",
    "feature_selector = SelectFromModel(ExtraTreesClassifier(n_estimators=100, random_state=42), threshold=\"mean\")\n",
    "X_train_selected = feature_selector.fit_transform(X_train_TB_Status, y_train_TB_Status)\n",
    "X_test_selected = feature_selector.transform(X_test_TB_Status)\n",
    "\n",
    "# ✅ Get selected feature names\n",
    "selected_mask = feature_selector.get_support()\n",
    "selected_feature_names_final = np.array(selected_feature_names)[selected_mask]\n",
    "\n",
    "# Display selected feature information\n",
    "print(\"\\n\" + \"=\"*60)\n",
    "print(\"🔍 FEATURE SELECTION RESULTS (Extra Trees Classifier)\")\n",
    "print(\"=\"*60)\n",
    "print(f\"Total features before selection : {len(selected_feature_names)}\")\n",
    "print(f\"Total features after selection  : {len(selected_feature_names_final)}\\n\")\n",
    "print(\"Selected Features:\")\n",
    "for i, feature in enumerate(selected_feature_names_final, start=1):\n",
    "    print(f\"{i}. {feature}\")\n",
    "print(\"=\"*60 + \"\\n\")\n",
    "\n",
    "# Save feature selector\n",
    "feature_selector_TB_Status_path = r\"..\\..\\Saved_files\\feature_selector_TB_Status.pkl\"\n",
    "with open(feature_selector_TB_Status_path, 'wb') as file:\n",
    "    pickle.dump(feature_selector, file)\n",
    "\n",
    "# Label encoding\n",
    "label_encoder = LabelEncoder()\n",
    "y_train_encoded = label_encoder.fit_transform(y_train_TB_Status)\n",
    "y_test_encoded = label_encoder.transform(y_test_TB_Status)\n",
    "\n",
    "# Save label encoder\n",
    "label_encoder_TB_Status_path = r\"..\\..\\Saved_files\\label_encoder_TB_Status.pkl\"\n",
    "with open(label_encoder_TB_Status_path, 'wb') as file:\n",
    "    pickle.dump(label_encoder, file)\n",
    "\n",
    "# Define TB status labels\n",
    "tb_status_labels = [\"TB\", \"Healthy Control\", \"Other Diseases\"]\n",
    "\n",
    "print(f\"Training set shape: {X_train_selected.shape}\")\n",
    "print(f\"Test set shape: {X_test_selected.shape}\")\n",
    "print(f\"Class distribution in training: {dict(zip(tb_status_labels, np.bincount(y_train_encoded)))}\")\n"
   ]
  },
  {
   "cell_type": "code",
   "execution_count": 21,
   "metadata": {},
   "outputs": [
    {
     "name": "stdout",
     "output_type": "stream",
     "text": [
      "Training SVM model with optimal hyperparameters...\n",
      "\n",
      "============================================================\n",
      "SUB-MODEL 1 (TB_HC_OD) - OPTIMIZED SVM PERFORMANCE\n",
      "============================================================\n",
      "\n",
      "Best TB_Status Classification Report:\n",
      "                 precision    recall  f1-score   support\n",
      "\n",
      "             TB       0.85      0.97      0.91       144\n",
      "Healthy Control       0.80      0.76      0.78       144\n",
      " Other Diseases       0.81      0.73      0.77       144\n",
      "\n",
      "       accuracy                           0.82       432\n",
      "      macro avg       0.82      0.82      0.82       432\n",
      "   weighted avg       0.82      0.82      0.82       432\n",
      "\n",
      "\n",
      "Overall Metrics:\n",
      "Accuracy:  0.8218\n",
      "Precision: 0.8195\n",
      "Recall:    0.8218\n",
      "F1-Score:  0.8186\n",
      "\n",
      "Class-wise Performance:\n",
      "TB              - Precision: 0.8537, Recall: 0.9722, F1: 0.9091\n",
      "Healthy Control - Precision: 0.7971, Recall: 0.7639, F1: 0.7801\n",
      "Other Diseases  - Precision: 0.8077, Recall: 0.7292, F1: 0.7664\n",
      "\n",
      "✅ Trained model saved to ..\\..\\Saved_files\\best_sub_model_1.pkl\n"
     ]
    }
   ],
   "source": [
    "# --- Create Optimized SVM Pipeline with Best Hyperparameters ---\n",
    "model_TB_Status = Pipeline([\n",
    "    ('scaler', StandardScaler()),  # Feature Scaling (essential for SVM)\n",
    "    ('svm', SVC(\n",
    "        C=10,                    # Best from hyperparameter tuning\n",
    "        gamma='auto',            # Best from hyperparameter tuning  \n",
    "        kernel='rbf',            # Best from hyperparameter tuning\n",
    "        probability=True,        # Enable probability predictions\n",
    "        random_state=42,\n",
    "        cache_size=1000,         # Increase cache for faster training\n",
    "        decision_function_shape='ovr'  # One-vs-rest for multi-class\n",
    "    ))\n",
    "])\n",
    "\n",
    "# --- Train the Model ---\n",
    "print(\"Training SVM model with optimal hyperparameters...\")\n",
    "model_TB_Status.fit(X_train_selected, y_train_encoded)\n",
    "\n",
    "# --- Evaluate on Test Set ---\n",
    "y_pred_best_TB_Status = model_TB_Status.predict(X_test_selected)\n",
    "y_pred_proba = model_TB_Status.predict_proba(X_test_selected)\n",
    "\n",
    "print(\"\\n\" + \"=\"*60)\n",
    "print(\"SUB-MODEL 1 (TB_HC_OD) - OPTIMIZED SVM PERFORMANCE\")\n",
    "print(\"=\"*60)\n",
    "\n",
    "# Detailed classification report\n",
    "print(\"\\nBest TB_Status Classification Report:\")\n",
    "print(classification_report(y_test_encoded, y_pred_best_TB_Status, target_names=tb_status_labels))\n",
    "\n",
    "# Individual metrics\n",
    "accuracy = accuracy_score(y_test_encoded, y_pred_best_TB_Status)\n",
    "precision = precision_score(y_test_encoded, y_pred_best_TB_Status, average='weighted')\n",
    "recall = recall_score(y_test_encoded, y_pred_best_TB_Status, average='weighted')\n",
    "f1 = f1_score(y_test_encoded, y_pred_best_TB_Status, average='weighted')\n",
    "\n",
    "print(f\"\\nOverall Metrics:\")\n",
    "print(f\"Accuracy:  {accuracy:.4f}\")\n",
    "print(f\"Precision: {precision:.4f}\")\n",
    "print(f\"Recall:    {recall:.4f}\")\n",
    "print(f\"F1-Score:  {f1:.4f}\")\n",
    "\n",
    "# Class-wise performance\n",
    "print(f\"\\nClass-wise Performance:\")\n",
    "for i, label in enumerate(tb_status_labels):\n",
    "    class_precision = precision_score(y_test_encoded, y_pred_best_TB_Status, average=None)[i]\n",
    "    class_recall = recall_score(y_test_encoded, y_pred_best_TB_Status, average=None)[i]\n",
    "    class_f1 = f1_score(y_test_encoded, y_pred_best_TB_Status, average=None)[i]\n",
    "    print(f\"{label:15} - Precision: {class_precision:.4f}, Recall: {class_recall:.4f}, F1: {class_f1:.4f}\")\n",
    "\n",
    "# --- Save the Trained Model ---\n",
    "model_save_path = r\"..\\..\\Saved_files\\best_sub_model_1.pkl\"\n",
    "with open(model_save_path, 'wb') as file:\n",
    "    pickle.dump(model_TB_Status, file)\n",
    "\n",
    "print(f\"\\n✅ Trained model saved to {model_save_path}\")\n"
   ]
  },
  {
   "cell_type": "code",
   "execution_count": 22,
   "metadata": {},
   "outputs": [
    {
     "name": "stdout",
     "output_type": "stream",
     "text": [
      "Scaler for TB Status saved to ..\\..\\Saved_files\\scalar\\scaler_TB_Status.pkl\n"
     ]
    }
   ],
   "source": [
    "# Extract the scaler from the pipeline\n",
    "scaler_TB_Status = model_TB_Status.named_steps['scaler']\n",
    "\n",
    "# Define paths to save the scaler\n",
    "scaler_save_path_TB_Status = r\"..\\..\\Saved_files\\scalar\\scaler_TB_Status.pkl\"\n",
    "\n",
    "# Save the scaler\n",
    "with open(scaler_save_path_TB_Status, 'wb') as file:\n",
    "    pickle.dump(scaler_TB_Status, file)\n",
    "\n",
    "print(f\"Scaler for TB Status saved to {scaler_save_path_TB_Status}\")\n"
   ]
  },
  {
   "cell_type": "markdown",
   "metadata": {},
   "source": [
    "## Evaluation of the sub model"
   ]
  },
  {
   "cell_type": "code",
   "execution_count": 23,
   "metadata": {},
   "outputs": [],
   "source": [
    "from sklearn.metrics import accuracy_score, precision_score, recall_score, f1_score, confusion_matrix\n",
    "import matplotlib.pyplot as plt\n",
    "import seaborn as sns\n",
    "\n",
    "# Function to evaluate the model and display metrics\n",
    "def evaluate_model(y_true, y_pred, label):\n",
    "    print(f\"\\n--- Evaluation Metrics for {label} ---\")\n",
    "    acc = accuracy_score(y_true, y_pred)\n",
    "    precision = precision_score(y_true, y_pred, average='weighted')\n",
    "    recall = recall_score(y_true, y_pred, average='weighted')\n",
    "    f1 = f1_score(y_true, y_pred, average='weighted')\n",
    "\n",
    "    print(f\"Accuracy: {acc:.2f}\")\n",
    "    print(f\"Precision: {precision:.2f}\")\n",
    "    print(f\"Recall: {recall:.2f}\")\n",
    "    print(f\"F1 Score: {f1:.2f}\")\n",
    "    print(\"\\n\")\n",
    "\n",
    "    # Display confusion matrix\n",
    "    cm = confusion_matrix(y_true, y_pred)\n",
    "    plt.figure(figsize=(8, 6))\n",
    "    sns.heatmap(cm, annot=True, fmt='d', cmap='Blues', xticklabels=set(y_true), yticklabels=set(y_true))\n",
    "    plt.title(f'Confusion Matrix for {label}')\n",
    "    plt.xlabel('Predicted')\n",
    "    plt.ylabel('True')\n",
    "    plt.show()"
   ]
  },
  {
   "cell_type": "code",
   "execution_count": 24,
   "metadata": {},
   "outputs": [
    {
     "name": "stdout",
     "output_type": "stream",
     "text": [
      "\n",
      "--- Model Evaluation ---\n",
      "\n",
      "--- Evaluation Metrics for TB_Status ---\n",
      "Accuracy: 0.82\n",
      "Precision: 0.82\n",
      "Recall: 0.82\n",
      "F1 Score: 0.82\n",
      "\n",
      "\n"
     ]
    },
    {
     "data": {
      "image/png": "[encoded data removed]",
      "text/plain": [
       "<Figure size 800x600 with 2 Axes>"
      ]
     },
     "metadata": {},
     "output_type": "display_data"
    }
   ],
   "source": [
    "# Evaluate models using test datasets\n",
    "print(\"\\n--- Model Evaluation ---\")\n",
    "# TB_Status Evaluation using the best model\n",
    "y_pred_TB_Status = model_TB_Status.predict(X_test_selected)\n",
    "\n",
    "# Convert encoded predictions back to text labels\n",
    "y_test_labels = label_encoder.inverse_transform(y_test_encoded)\n",
    "y_pred_labels = label_encoder.inverse_transform(y_pred_TB_Status)\n",
    "\n",
    "# Evaluate using original labels\n",
    "evaluate_model(y_test_labels, y_pred_labels, \"TB_Status\")\n",
    "\n"
   ]
  }
 ],
 "metadata": {
  "kernelspec": {
   "display_name": "myenv",
   "language": "python",
   "name": "python3"
  },
  "language_info": {
   "codemirror_mode": {
    "name": "ipython",
    "version": 3
   },
   "file_extension": ".py",
   "mimetype": "text/x-python",
   "name": "python",
   "nbconvert_exporter": "python",
   "pygments_lexer": "ipython3",
   "version": "3.9.18"
  }
 },
 "nbformat": 4,
 "nbformat_minor": 2
}
